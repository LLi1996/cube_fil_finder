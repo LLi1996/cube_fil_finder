{
 "cells": [
  {
   "cell_type": "code",
   "execution_count": 2,
   "metadata": {
    "collapsed": true
   },
   "outputs": [],
   "source": [
    "import logging\n",
    "import pickle"
   ]
  },
  {
   "cell_type": "code",
   "execution_count": 29,
   "metadata": {
    "collapsed": true
   },
   "outputs": [],
   "source": [
    "nodes_dicts = pickle.load(open('../../debug/avery_test_nodes/full_injected_nodes.p'))"
   ]
  },
  {
   "cell_type": "code",
   "execution_count": 27,
   "metadata": {
    "collapsed": true
   },
   "outputs": [],
   "source": [
    "def is_point_on_node(node, point=(0, 0), strict=False):\n",
    "    \"\"\"\n",
    "    checks if point is on a node\n",
    "    \n",
    "    :param node: {MaskObjNode}\n",
    "    :param coord: {tup}/{list} (default: (0,0))\n",
    "        of two {int}\n",
    "        assumes in (i, j)\n",
    "    :param strict: {bool} (default: False)\n",
    "        if strict the binary mask needs to be ON at that point\n",
    "        of not will return True if point in corner bound\n",
    "    \n",
    "    :return: {bool}\n",
    "    \"\"\"\n",
    "    mask = node.mask\n",
    "    corner_min = node.corner_min\n",
    "    corner_max = node.corner_max\n",
    "    in_corner_bound = ((corner_min[0] <= point[0]) and (point[0] <= corner_max[0]) and\n",
    "                       (corner_min[1] <= point[1]) and (point[1] <= corner_max[1]))\n",
    "    if in_corner_bound:\n",
    "        if not strict:\n",
    "            return True\n",
    "        else:\n",
    "            localized_point = [point[i] - corner_min[i] for i in range(2)]\n",
    "            return bool(mask[localized_point[0], localized_point[1]])\n",
    "    else:\n",
    "        return False\n",
    "    \n",
    "\n",
    "\n",
    "def find_nodes_on_point(nodes_dicts, point=(0, 0), strict=False):\n",
    "    \"\"\"\n",
    "    :param nodes_dicts: {dict}\n",
    "        of {dict} of nodes\n",
    "    :param point: {tup}/{list}\n",
    "        of two {int}\n",
    "        assumes in (i, j)\n",
    "    :param strict: {bool} (default: False)\n",
    "        if strict the binary mask needs to be ON at that point\n",
    "        of not will return True if point in corner bound\n",
    "    :return nodes_dicts: {dict}\n",
    "    \"\"\"\n",
    "    new_nodes_dicts = dict()\n",
    "    for nodes_dict_key, nodes_dict in nodes_dicts.items():\n",
    "        new_nodes_dict = {node_key: node\n",
    "                          for node_key, node in nodes_dict.items()\n",
    "                          if is_point_on_node(node, point, strict=strict)}\n",
    "        new_nodes_dicts[nodes_dict_key] = new_nodes_dict\n",
    "    \n",
    "    return new_nodes_dicts"
   ]
  },
  {
   "cell_type": "code",
   "execution_count": 30,
   "metadata": {},
   "outputs": [],
   "source": [
    "ex_node = nodes_dicts[0]['2183_0']"
   ]
  },
  {
   "cell_type": "code",
   "execution_count": 31,
   "metadata": {},
   "outputs": [
    {
     "data": {
      "text/plain": [
       "[[23, 292], [112, 393]]"
      ]
     },
     "execution_count": 31,
     "metadata": {},
     "output_type": "execute_result"
    }
   ],
   "source": [
    "ex_node.corners"
   ]
  },
  {
   "cell_type": "code",
   "execution_count": 32,
   "metadata": {},
   "outputs": [
    {
     "data": {
      "text/plain": [
       "False"
      ]
     },
     "execution_count": 32,
     "metadata": {},
     "output_type": "execute_result"
    }
   ],
   "source": [
    "is_point_on_node(ex_node, (25, 300), strict=True)"
   ]
  },
  {
   "cell_type": "code",
   "execution_count": 33,
   "metadata": {},
   "outputs": [],
   "source": [
    "ex_node_dicts = find_nodes_on_point(nodes_dicts, (25, 300))"
   ]
  },
  {
   "cell_type": "code",
   "execution_count": 35,
   "metadata": {},
   "outputs": [
    {
     "data": {
      "text/plain": [
       "{0: {'2183_0': <mask_obj_node.MaskObjNode instance at 0x11567d170>},\n",
       " 1: {'2170_0': <mask_obj_node.MaskObjNode instance at 0x11511a098>},\n",
       " 2: {'2182_0': <mask_obj_node.MaskObjNode instance at 0x1156b8d88>},\n",
       " 3: {'2176_0': <mask_obj_node.MaskObjNode instance at 0x1156cbdd0>},\n",
       " 4: {},\n",
       " 5: {},\n",
       " 6: {},\n",
       " 7: {},\n",
       " 8: {},\n",
       " 9: {},\n",
       " 10: {},\n",
       " 11: {},\n",
       " 12: {},\n",
       " 13: {},\n",
       " 14: {},\n",
       " 15: {'1603_0': <mask_obj_node.MaskObjNode instance at 0x11569c290>},\n",
       " 16: {},\n",
       " 17: {},\n",
       " 18: {},\n",
       " 19: {},\n",
       " 20: {},\n",
       " 21: {},\n",
       " 22: {},\n",
       " 23: {},\n",
       " 24: {},\n",
       " 25: {},\n",
       " 26: {},\n",
       " 27: {},\n",
       " 28: {},\n",
       " 29: {},\n",
       " 30: {},\n",
       " 31: {},\n",
       " 32: {},\n",
       " 33: {},\n",
       " 34: {},\n",
       " 35: {},\n",
       " 36: {},\n",
       " 37: {},\n",
       " 38: {},\n",
       " 39: {},\n",
       " 40: {},\n",
       " 41: {},\n",
       " 42: {},\n",
       " 43: {},\n",
       " 44: {},\n",
       " 45: {},\n",
       " 46: {},\n",
       " 47: {},\n",
       " 48: {},\n",
       " 49: {}}"
      ]
     },
     "execution_count": 35,
     "metadata": {},
     "output_type": "execute_result"
    }
   ],
   "source": [
    "ex_node_dicts"
   ]
  },
  {
   "cell_type": "code",
   "execution_count": null,
   "metadata": {
    "collapsed": true
   },
   "outputs": [],
   "source": []
  }
 ],
 "metadata": {
  "kernelspec": {
   "display_name": "Python 2",
   "language": "python",
   "name": "python2"
  },
  "language_info": {
   "codemirror_mode": {
    "name": "ipython",
    "version": 2
   },
   "file_extension": ".py",
   "mimetype": "text/x-python",
   "name": "python",
   "nbconvert_exporter": "python",
   "pygments_lexer": "ipython2",
   "version": "2.7.13"
  }
 },
 "nbformat": 4,
 "nbformat_minor": 2
}
