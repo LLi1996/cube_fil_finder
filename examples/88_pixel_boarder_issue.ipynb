{
 "cells": [
  {
   "cell_type": "code",
   "execution_count": 78,
   "metadata": {},
   "outputs": [],
   "source": [
    "import pickle\n",
    "import os\n",
    "import pandas as pd\n",
    "import pprint"
   ]
  },
  {
   "cell_type": "code",
   "execution_count": 81,
   "metadata": {
    "collapsed": true
   },
   "outputs": [],
   "source": [
    "from cube_fil_finder.galfa.galfa_v_lookup import GALFA_V_LOOKUP_W"
   ]
  },
  {
   "cell_type": "code",
   "execution_count": 12,
   "metadata": {
    "collapsed": true
   },
   "outputs": [],
   "source": [
    "from cube_fil_finder.galfa import galfa_const"
   ]
  },
  {
   "cell_type": "code",
   "execution_count": 11,
   "metadata": {
    "collapsed": true
   },
   "outputs": [],
   "source": [
    "data_file_dir = '/Users/larryli/Documents/CC/16-17/research/3d_filfind/data_out'\n",
    "fourth_batch_from_mary_path = os.path.join(data_file_dir, 'fourth_batch_all_prop_new_withunits_check.csv')"
   ]
  },
  {
   "cell_type": "code",
   "execution_count": 27,
   "metadata": {},
   "outputs": [],
   "source": [
    "data_df = pd.read_csv(fourth_batch_from_mary_path)"
   ]
  },
  {
   "cell_type": "code",
   "execution_count": 3,
   "metadata": {
    "collapsed": true
   },
   "outputs": [],
   "source": [
    "base_dir = '/Users/larryli/Documents/CC/16-17/research/3d_filfind/pickled_dicts/fourth_batch/'\n",
    "p_file = os.path.join(base_dir, 'all_trees_1_8.p')"
   ]
  },
  {
   "cell_type": "code",
   "execution_count": 4,
   "metadata": {
    "collapsed": true
   },
   "outputs": [],
   "source": [
    "all_trees_dict = pickle.load(open(p_file, 'rb'))"
   ]
  },
  {
   "cell_type": "code",
   "execution_count": 36,
   "metadata": {},
   "outputs": [],
   "source": [
    "tree_keys_that_count = set(data_df['id'])"
   ]
  },
  {
   "cell_type": "code",
   "execution_count": 89,
   "metadata": {
    "collapsed": true
   },
   "outputs": [],
   "source": [
    "near_edge_trees = {}"
   ]
  },
  {
   "cell_type": "code",
   "execution_count": 90,
   "metadata": {},
   "outputs": [],
   "source": [
    "for k, v in all_trees_dict.items():\n",
    "    if k not in tree_keys_that_count:\n",
    "        continue\n",
    "    corner_original = v.root_node.corners_original\n",
    "    m_min = min(corner_original[0][0], galfa_const.GALFA_Y_STEPS - corner_original[1][0])\n",
    "    n_min = min(corner_original[0][1], galfa_const.GALFA_X_STEPS - corner_original[1][1])\n",
    "    min_min = min(m_min, n_min)\n",
    "    if min_min > 80 and min_min < 90:\n",
    "        near_edge_trees[k] = (m_min, n_min, corner_original,\n",
    "                              [(i, '{:.1f}kms'.format(GALFA_V_LOOKUP_W[i])) for i in v.root_node.v_slice_index])"
   ]
  },
  {
   "cell_type": "code",
   "execution_count": 91,
   "metadata": {
    "scrolled": false
   },
   "outputs": [
    {
     "name": "stdout",
     "output_type": "stream",
     "text": [
      "{'1020_1032_2': (88,\n",
      "                 624,\n",
      "                 [[2318, 20818], [2344, 20976]],\n",
      "                 [(1032, '6.3kms'), (1033, '7.0kms')]),\n",
      " '1082_1023_3': (88,\n",
      "                 1291,\n",
      "                 [[2238, 1291], [2344, 1704]],\n",
      "                 [(1023, '-0.4kms'), (1024, '0.4kms')]),\n",
      " '1083_1061_2': (87,\n",
      "                 8624,\n",
      "                 [[87, 12937], [208, 12976]],\n",
      "                 [(1061, '27.6kms'), (1062, '28.3kms'), (1063, '29.1kms')]),\n",
      " '11019_1026_0': (86,\n",
      "                  6177,\n",
      "                  [[86, 6177], [163, 6735]],\n",
      "                  [(1026, '1.8kms'), (1027, '2.6kms'), (1028, '3.3kms')]),\n",
      " '1169_1040_1': (88,\n",
      "                 279,\n",
      "                 [[2327, 279], [2344, 414]],\n",
      "                 [(1040, '12.1kms'), (1041, '12.9kms'), (1042, '13.6kms')]),\n",
      " '1175_1061_0': (87,\n",
      "                 8458,\n",
      "                 [[87, 13105], [216, 13142]],\n",
      "                 [(1061, '27.6kms'), (1062, '28.3kms')]),\n",
      " '1191_984_1': (85,\n",
      "                2150,\n",
      "                [[85, 2150], [125, 2319]],\n",
      "                [(984, '-29.1kms'),\n",
      "                 (985, '-28.3kms'),\n",
      "                 (986, '-27.6kms'),\n",
      "                 (987, '-26.9kms')]),\n",
      " '1233_1023_0': (88,\n",
      "                 1535,\n",
      "                 [[2282, 1535], [2344, 1753]],\n",
      "                 [(1023, '-0.4kms'),\n",
      "                  (1024, '0.4kms'),\n",
      "                  (1025, '1.1kms'),\n",
      "                  (1026, '1.8kms')]),\n",
      " '1251_1032_0': (87,\n",
      "                 7509,\n",
      "                 [[87, 14034], [288, 14091]],\n",
      "                 [(1032, '6.3kms'), (1033, '7.0kms'), (1034, '7.7kms')]),\n",
      " '1259_1063_0': (88,\n",
      "                 8254,\n",
      "                 [[88, 13308], [237, 13346]],\n",
      "                 [(1063, '29.1kms'), (1064, '29.8kms')]),\n",
      " '1261_982_1': (85,\n",
      "                2285,\n",
      "                [[85, 2285], [119, 2487]],\n",
      "                [(982, '-30.5kms'),\n",
      "                 (983, '-29.8kms'),\n",
      "                 (984, '-29.1kms'),\n",
      "                 (985, '-28.3kms'),\n",
      "                 (986, '-27.6kms'),\n",
      "                 (987, '-26.9kms'),\n",
      "                 (988, '-26.1kms'),\n",
      "                 (989, '-25.4kms'),\n",
      "                 (990, '-24.7kms')]),\n",
      " '1285_1019_1': (88,\n",
      "                 1596,\n",
      "                 [[2175, 19429], [2344, 20004]],\n",
      "                 [(1019, '-3.3kms'), (1020, '-2.6kms')]),\n",
      " '1383_1060_0': (87,\n",
      "                 8633,\n",
      "                 [[87, 12920], [266, 12967]],\n",
      "                 [(1060, '26.9kms'), (1061, '27.6kms')]),\n",
      " '1565_1013_0': (87,\n",
      "                 6980,\n",
      "                 [[87, 14526], [276, 14620]],\n",
      "                 [(1013, '-7.7kms'), (1014, '-7.0kms')]),\n",
      " '1626_1017_0': (86,\n",
      "                 8874,\n",
      "                 [[86, 8874], [128, 9215]],\n",
      "                 [(1017, '-4.8kms'),\n",
      "                  (1018, '-4.0kms'),\n",
      "                  (1019, '-3.3kms'),\n",
      "                  (1020, '-2.6kms')]),\n",
      " '1686_1021_0': (87,\n",
      "                 5908,\n",
      "                 [[87, 15552], [203, 15692]],\n",
      "                 [(1021, '-1.8kms'),\n",
      "                  (1022, '-1.1kms'),\n",
      "                  (1023, '-0.4kms'),\n",
      "                  (1024, '0.4kms'),\n",
      "                  (1025, '1.1kms')]),\n",
      " '1702_1036_1': (86,\n",
      "                 1497,\n",
      "                 [[86, 1497], [195, 1641]],\n",
      "                 [(1036, '9.2kms'), (1037, '9.9kms')]),\n",
      " '1833_1018_0': (85,\n",
      "                 5898,\n",
      "                 [[85, 5898], [152, 6333]],\n",
      "                 [(1018, '-4.0kms'), (1019, '-3.3kms')]),\n",
      " '1859_991_0': (86,\n",
      "                2224,\n",
      "                [[86, 2224], [125, 2515]],\n",
      "                [(991, '-23.9kms'),\n",
      "                 (992, '-23.2kms'),\n",
      "                 (993, '-22.5kms'),\n",
      "                 (994, '-21.7kms'),\n",
      "                 (995, '-21.0kms')]),\n",
      " '1909_1022_2': (87,\n",
      "                 6889,\n",
      "                 [[2147, 14650], [2345, 14711]],\n",
      "                 [(1022, '-1.1kms'), (1023, '-0.4kms')]),\n",
      " '1969_1030_0': (88,\n",
      "                 1526,\n",
      "                 [[2316, 1526], [2344, 1744]],\n",
      "                 [(1030, '4.8kms'),\n",
      "                  (1031, '5.5kms'),\n",
      "                  (1032, '6.3kms'),\n",
      "                  (1033, '7.0kms')]),\n",
      " '2217_985_0': (88,\n",
      "                1158,\n",
      "                [[2218, 1158], [2344, 1656]],\n",
      "                [(985, '-28.3kms'),\n",
      "                 (986, '-27.6kms'),\n",
      "                 (987, '-26.9kms'),\n",
      "                 (988, '-26.1kms')]),\n",
      " '2238_1032_1': (88,\n",
      "                 585,\n",
      "                 [[2237, 585], [2344, 811]],\n",
      "                 [(1032, '6.3kms'), (1033, '7.0kms')]),\n",
      " '2381_1000_0': (86,\n",
      "                 9718,\n",
      "                 [[86, 11803], [293, 11882]],\n",
      "                 [(1000, '-17.3kms'), (1001, '-16.6kms')]),\n",
      " '2406_1034_0': (88,\n",
      "                 572,\n",
      "                 [[2239, 572], [2344, 777]],\n",
      "                 [(1034, '7.7kms'), (1035, '8.5kms')]),\n",
      " '2558_1002_0': (1025,\n",
      "                 89,\n",
      "                 [[1025, 89], [1243, 267]],\n",
      "                 [(1002, '-15.8kms'), (1003, '-15.1kms')]),\n",
      " '2610_1007_0': (86,\n",
      "                 10638,\n",
      "                 [[86, 10638], [268, 10903]],\n",
      "                 [(1007, '-12.1kms'), (1008, '-11.4kms')]),\n",
      " '2819_1031_0': (88,\n",
      "                 522,\n",
      "                 [[2212, 522], [2344, 735]],\n",
      "                 [(1031, '5.5kms'),\n",
      "                  (1032, '6.3kms'),\n",
      "                  (1033, '7.0kms'),\n",
      "                  (1034, '7.7kms')]),\n",
      " '2923_1029_0': (88,\n",
      "                 186,\n",
      "                 [[2288, 186], [2344, 467]],\n",
      "                 [(1029, '4.0kms'), (1030, '4.8kms'), (1031, '5.5kms')]),\n",
      " '2945_1028_0': (86,\n",
      "                 727,\n",
      "                 [[86, 727], [276, 902]],\n",
      "                 [(1028, '3.3kms'), (1029, '4.0kms')]),\n",
      " '2958_1028_0': (154,\n",
      "                 85,\n",
      "                 [[2193, 85], [2278, 415]],\n",
      "                 [(1028, '3.3kms'), (1029, '4.0kms'), (1030, '4.8kms')]),\n",
      " '2995_1026_0': (86,\n",
      "                 7135,\n",
      "                 [[86, 7135], [180, 7398]],\n",
      "                 [(1026, '1.8kms'), (1027, '2.6kms')]),\n",
      " '3170_955_0': (137,\n",
      "                83,\n",
      "                [[2242, 83], [2295, 333]],\n",
      "                [(955, '-50.4kms'), (956, '-49.7kms'), (957, '-49.0kms')]),\n",
      " '3623_957_0': (86,\n",
      "                4008,\n",
      "                [[2116, 17382], [2346, 17592]],\n",
      "                [(957, '-49.0kms'), (958, '-48.2kms')]),\n",
      " '374_1022_11': (86,\n",
      "                 8504,\n",
      "                 [[86, 8504], [114, 8645]],\n",
      "                 [(1022, '-1.1kms'), (1023, '-0.4kms')]),\n",
      " '375_1057_25': (87,\n",
      "                 8454,\n",
      "                 [[87, 13127], [177, 13146]],\n",
      "                 [(1057, '24.7kms'), (1058, '25.4kms')]),\n",
      " '4314_1081_0': (88,\n",
      "                 7343,\n",
      "                 [[88, 13985], [271, 14257]],\n",
      "                 [(1081, '42.3kms'), (1082, '43.1kms')]),\n",
      " '456_1031_2': (87,\n",
      "                4365,\n",
      "                [[87, 17145], [309, 17235]],\n",
      "                [(1031, '5.5kms'), (1032, '6.3kms')]),\n",
      " '460_1020_2': (86,\n",
      "                7287,\n",
      "                [[86, 7287], [101, 7418]],\n",
      "                [(1020, '-2.6kms'), (1021, '-1.8kms'), (1022, '-1.1kms')]),\n",
      " '467_1032_6': (87,\n",
      "                8109,\n",
      "                [[87, 13327], [178, 13491]],\n",
      "                [(1032, '6.3kms'), (1033, '7.0kms'), (1034, '7.7kms')]),\n",
      " '4787_1005_0': (86,\n",
      "                 1441,\n",
      "                 [[86, 19988], [357, 20159]],\n",
      "                 [(1005, '-13.6kms'), (1006, '-12.9kms'), (1007, '-12.1kms')]),\n",
      " '507_1026_10': (86,\n",
      "                 721,\n",
      "                 [[86, 721], [149, 801]],\n",
      "                 [(1026, '1.8kms'), (1027, '2.6kms')]),\n",
      " '533_1023_8': (86,\n",
      "                1829,\n",
      "                [[86, 1829], [183, 2042]],\n",
      "                [(1023, '-0.4kms'), (1024, '0.4kms')]),\n",
      " '556_1048_0': (87,\n",
      "                7299,\n",
      "                [[87, 7299], [241, 7467]],\n",
      "                [(1048, '18.0kms'), (1049, '18.8kms')]),\n",
      " '559_971_0': (88,\n",
      "               2711,\n",
      "               [[2329, 2711], [2344, 2798]],\n",
      "               [(971, '-38.6kms'), (972, '-37.9kms')]),\n",
      " '594_1022_2': (86,\n",
      "                6592,\n",
      "                [[86, 6592], [98, 6689]],\n",
      "                [(1022, '-1.1kms'), (1023, '-0.4kms')]),\n",
      " '601_1041_2': (86,\n",
      "                5291,\n",
      "                [[86, 5291], [265, 5510]],\n",
      "                [(1041, '12.9kms'), (1042, '13.6kms'), (1043, '14.4kms')]),\n",
      " '643_955_5': (88,\n",
      "               1828,\n",
      "               [[2211, 19361], [2344, 19772]],\n",
      "               [(955, '-50.4kms'), (956, '-49.7kms')]),\n",
      " '6475_956_0': (88,\n",
      "                243,\n",
      "                [[88, 21030], [418, 21357]],\n",
      "                [(956, '-49.7kms'),\n",
      "                 (957, '-49.0kms'),\n",
      "                 (958, '-48.2kms'),\n",
      "                 (959, '-47.5kms')]),\n",
      " '6609_1031_0': (86,\n",
      "                 1213,\n",
      "                 [[86, 1213], [458, 1546]],\n",
      "                 [(1031, '5.5kms'), (1032, '6.3kms')]),\n",
      " '666_1021_5': (88,\n",
      "                696,\n",
      "                [[2327, 696], [2344, 794]],\n",
      "                [(1021, '-1.8kms'), (1022, '-1.1kms'), (1023, '-0.4kms')]),\n",
      " '684_1054_7': (87,\n",
      "                7883,\n",
      "                [[87, 13684], [203, 13717]],\n",
      "                [(1054, '22.5kms'), (1055, '23.2kms'), (1056, '23.9kms')]),\n",
      " '743_998_1': (87,\n",
      "               8495,\n",
      "               [[87, 13064], [266, 13105]],\n",
      "               [(998, '-18.8kms'), (999, '-18.0kms')]),\n",
      " '752_1026_0': (86,\n",
      "                3451,\n",
      "                [[2318, 17940], [2346, 18149]],\n",
      "                [(1026, '1.8kms'), (1027, '2.6kms')]),\n",
      " '756_1035_4': (88,\n",
      "                533,\n",
      "                [[2326, 533], [2344, 637]],\n",
      "                [(1035, '8.5kms'), (1036, '9.2kms')]),\n",
      " '775_987_2': (87,\n",
      "               4325,\n",
      "               [[2116, 17003], [2345, 17275]],\n",
      "               [(987, '-26.9kms'),\n",
      "                (988, '-26.1kms'),\n",
      "                (989, '-25.4kms'),\n",
      "                (990, '-24.7kms'),\n",
      "                (991, '-23.9kms'),\n",
      "                (992, '-23.2kms')]),\n",
      " '791_1055_3': (88,\n",
      "                8255,\n",
      "                [[88, 13288], [274, 13345]],\n",
      "                [(1055, '23.2kms'), (1056, '23.9kms'), (1057, '24.7kms')]),\n",
      " '798_1012_3': (86,\n",
      "                2352,\n",
      "                [[86, 19207], [255, 19248]],\n",
      "                [(1012, '-8.5kms'),\n",
      "                 (1013, '-7.7kms'),\n",
      "                 (1014, '-7.0kms'),\n",
      "                 (1015, '-6.3kms')]),\n",
      " '800_1006_4': (87,\n",
      "                4272,\n",
      "                [[2329, 17199], [2345, 17328]],\n",
      "                [(1006, '-12.9kms'), (1007, '-12.1kms')]),\n",
      " '850_993_2': (87,\n",
      "               8637,\n",
      "               [[87, 12931], [190, 12963]],\n",
      "               [(993, '-22.5kms'),\n",
      "                (994, '-21.7kms'),\n",
      "                (995, '-21.0kms'),\n",
      "                (996, '-20.2kms')]),\n",
      " '859_1000_1': (87,\n",
      "                8641,\n",
      "                [[87, 12931], [192, 12959]],\n",
      "                [(1000, '-17.3kms'), (1001, '-16.6kms')]),\n",
      " '905_1048_2': (86,\n",
      "                5219,\n",
      "                [[86, 5219], [279, 5384]],\n",
      "                [(1048, '18.0kms'),\n",
      "                 (1049, '18.8kms'),\n",
      "                 (1050, '19.5kms'),\n",
      "                 (1051, '20.2kms')]),\n",
      " '9320_1018_0': (406,\n",
      "                 81,\n",
      "                 [[406, 21167], [733, 21519]],\n",
      "                 [(1018, '-4.0kms'), (1019, '-3.3kms')]),\n",
      " '944_1018_2': (88,\n",
      "                1397,\n",
      "                [[2134, 19930], [2344, 20203]],\n",
      "                [(1018, '-4.0kms'), (1019, '-3.3kms')]),\n",
      " '962_1016_0': (118,\n",
      "                86,\n",
      "                [[2272, 86], [2314, 286]],\n",
      "                [(1016, '-5.5kms'), (1017, '-4.8kms'), (1018, '-4.0kms')])}\n"
     ]
    }
   ],
   "source": [
    "pprint.pprint(near_edge_trees)"
   ]
  },
  {
   "cell_type": "code",
   "execution_count": 69,
   "metadata": {},
   "outputs": [],
   "source": [
    "slices = [v for k in near_edge_trees for v in near_edge_trees[k][2]]"
   ]
  },
  {
   "cell_type": "code",
   "execution_count": 70,
   "metadata": {},
   "outputs": [],
   "source": [
    "%matplotlib inline"
   ]
  },
  {
   "cell_type": "code",
   "execution_count": 71,
   "metadata": {},
   "outputs": [],
   "source": [
    "s = pd.Series(slices)"
   ]
  },
  {
   "cell_type": "code",
   "execution_count": 72,
   "metadata": {},
   "outputs": [
    {
     "data": {
      "image/png": "[encoded data removed]",
      "text/plain": [
       "<matplotlib.figure.Figure at 0x11e847650>"
      ]
     },
     "metadata": {},
     "output_type": "display_data"
    }
   ],
   "source": [
    "b = s.hist()"
   ]
  },
  {
   "cell_type": "code",
   "execution_count": 73,
   "metadata": {},
   "outputs": [],
   "source": [
    "from collections import Counter"
   ]
  },
  {
   "cell_type": "code",
   "execution_count": 74,
   "metadata": {
    "collapsed": true
   },
   "outputs": [],
   "source": [
    "counter_dict = Counter(slices)"
   ]
  },
  {
   "cell_type": "code",
   "execution_count": 88,
   "metadata": {},
   "outputs": [
    {
     "data": {
      "text/plain": [
       "[(1032, '6.3kms', 8),\n",
       " (1023, '-0.4kms', 8),\n",
       " (1033, '7.0kms', 6),\n",
       " (1022, '-1.1kms', 6),\n",
       " (1026, '1.8kms', 5),\n",
       " (1031, '5.5kms', 5),\n",
       " (1018, '-4.0kms', 5),\n",
       " (1019, '-3.3kms', 5),\n",
       " (1024, '0.4kms', 4),\n",
       " (1027, '2.6kms', 4),\n",
       " (1034, '7.7kms', 4),\n",
       " (987, '-26.9kms', 4),\n",
       " (1028, '3.3kms', 3),\n",
       " (1029, '4.0kms', 3),\n",
       " (1030, '4.8kms', 3)]"
      ]
     },
     "execution_count": 88,
     "metadata": {},
     "output_type": "execute_result"
    }
   ],
   "source": [
    "[(tup[0], '{:.1f}kms'.format(GALFA_V_LOOKUP_W[tup[0]]), tup[1]) for tup in counter_dict.most_common(15)]"
   ]
  },
  {
   "cell_type": "code",
   "execution_count": 87,
   "metadata": {},
   "outputs": [
    {
     "data": {
      "text/plain": [
       "<attribute 'real' of 'int' objects>"
      ]
     },
     "execution_count": 87,
     "metadata": {},
     "output_type": "execute_result"
    }
   ],
   "source": []
  },
  {
   "cell_type": "code",
   "execution_count": null,
   "metadata": {
    "collapsed": true
   },
   "outputs": [],
   "source": []
  }
 ],
 "metadata": {
  "kernelspec": {
   "display_name": "Python 2",
   "language": "python",
   "name": "python2"
  },
  "language_info": {
   "codemirror_mode": {
    "name": "ipython",
    "version": 2
   },
   "file_extension": ".py",
   "mimetype": "text/x-python",
   "name": "python",
   "nbconvert_exporter": "python",
   "pygments_lexer": "ipython2",
   "version": "2.7.13"
  }
 },
 "nbformat": 4,
 "nbformat_minor": 2
}
