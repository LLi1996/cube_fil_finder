{
 "cells": [
  {
   "cell_type": "markdown",
   "metadata": {},
   "source": [
    "# Distances"
   ]
  },
  {
   "cell_type": "code",
   "execution_count": 55,
   "metadata": {
    "collapsed": true
   },
   "outputs": [],
   "source": [
    "import numpy as np\n",
    "import matplotlib\n",
    "from matplotlib import pyplot as plt\n",
    "from cube_fil_finder.util.moments import ROUNDNESS_AR_CONVERSION as AR2ROUND\n",
    "\n",
    "%matplotlib inline"
   ]
  },
  {
   "cell_type": "code",
   "execution_count": 42,
   "metadata": {
    "collapsed": true
   },
   "outputs": [],
   "source": [
    "matplotlib.rcParams['mathtext.fontset'] = 'cm'\n",
    "matplotlib.rcParams.update({'font.size': 12})"
   ]
  },
  {
   "cell_type": "code",
   "execution_count": 2,
   "metadata": {
    "collapsed": true
   },
   "outputs": [],
   "source": [
    "data_file_path = '../../data_out/fourth_batch_all_prop.txt'"
   ]
  },
  {
   "cell_type": "code",
   "execution_count": 3,
   "metadata": {
    "collapsed": true
   },
   "outputs": [],
   "source": [
    "# all the data fields\n",
    "keys = ['key_num',\n",
    "        'ra',\n",
    "        'dec',\n",
    "        'l',\n",
    "        'b',\n",
    "        'size',\n",
    "        'roundness',\n",
    "        'starting_velocity',\n",
    "        'velocity_span',\n",
    "        'average_velocity',\n",
    "        'moment_0_mean',\n",
    "        'moment_0_median',\n",
    "        'moment_0_peak',\n",
    "        'moment_0_mean_raw',\n",
    "        'moment_0_median_raw',\n",
    "        'moment_0_peak_raw',\n",
    "        'moment_1_mean',\n",
    "        'moment_1_median',\n",
    "        'moment_2_mean',\n",
    "        'moment_2_median',\n",
    "        'moment_2_peak',\n",
    "        'column_density_mean',\n",
    "        'column_density_median',\n",
    "        'column_density_peak',\n",
    "        'column_density_mean_raw',\n",
    "        'column_density_median_raw',\n",
    "        'column_density_peak_raw',\n",
    "        'width_fit',\n",
    "        'width_err',\n",
    "        'width_chisq',\n",
    "        'width_fit_raw',\n",
    "        'width_err_raw',\n",
    "        'width_chisq_raw']"
   ]
  },
  {
   "cell_type": "code",
   "execution_count": 4,
   "metadata": {
    "collapsed": true
   },
   "outputs": [],
   "source": [
    "data = np.loadtxt(data_file_path, delimiter=',')"
   ]
  },
  {
   "cell_type": "code",
   "execution_count": 5,
   "metadata": {},
   "outputs": [
    {
     "data": {
      "text/plain": [
       "(1073, 33)"
      ]
     },
     "execution_count": 5,
     "metadata": {},
     "output_type": "execute_result"
    }
   ],
   "source": [
    "data.shape # 1073 trees (excluding edge cases), 31 fields outlined in keys"
   ]
  },
  {
   "cell_type": "code",
   "execution_count": 6,
   "metadata": {
    "collapsed": true
   },
   "outputs": [],
   "source": [
    "key_nums = data[:, 0]\n",
    "ras = data[:, 1]\n",
    "decs = data[:, 2]\n",
    "ls = data[:, 3]\n",
    "bs = data[:, 4]\n",
    "sizes = data[:, 5]\n",
    "roundnesses = data[:, 6]\n",
    "starting_velocities = data[:, 7]\n",
    "velocity_spans = data[:, 8]\n",
    "average_velocities = data[:, 9]\n",
    "moment_0_means = data[:, 10]\n",
    "moment_0_medians = data[:, 11]\n",
    "moment_0_peaks = data[:, 12]\n",
    "moment_0_means_raw = data[:, 13]\n",
    "moment_0_medians_raw = data[:, 14]\n",
    "moment_0_peaks_raw = data[:, 15]\n",
    "moment_1_means = data[:, 16]\n",
    "moment_1_medians = data[:, 17]\n",
    "moment_2_means = data[:, 18]\n",
    "moment_2_medians = data[:, 19]\n",
    "moment_2_peaks = data[:, 20]\n",
    "column_density_means = data[:, 21]\n",
    "column_density_medians = data[:, 22]\n",
    "column_density_peaks = data[:, 23]\n",
    "column_density_means_raw = data[:, 24]\n",
    "column_density_medians_raw = data[:, 25]\n",
    "column_density_peaks_raw = data[:, 26]\n",
    "width_fits = data[:, 27]\n",
    "width_errs = data[:, 28]\n",
    "width_chisq = data[:, 29]\n",
    "width_fits_raw = data[:, 30]\n",
    "width_errs_raw = data[:, 31]\n",
    "width_chisq_raw = data[:, 32]"
   ]
  },
  {
   "cell_type": "markdown",
   "metadata": {},
   "source": [
    "### Stilism distance from Susan"
   ]
  },
  {
   "cell_type": "code",
   "execution_count": 8,
   "metadata": {},
   "outputs": [],
   "source": [
    "stilism_dist_data = np.loadtxt('../../dist_data/fourth_batch_all_prop_corr_lbdistances.txt', delimiter=' ')\n",
    "stilism_dist = stilism_dist_data[:,2]\n",
    "stilism_dist_err = stilism_dist_data[:,4]\n",
    "stilism_lower_lim_flag = stilism_dist_data[:,6]"
   ]
  },
  {
   "cell_type": "markdown",
   "metadata": {},
   "source": [
    "### Flat rotation curve nearside distance from Josh"
   ]
  },
  {
   "cell_type": "code",
   "execution_count": 9,
   "metadata": {},
   "outputs": [],
   "source": [
    "flatcurve_dist = np.loadtxt('../../dist_data/fourth_batch_flatcurve_dist.txt', delimiter=',')"
   ]
  },
  {
   "cell_type": "markdown",
   "metadata": {
    "collapsed": true
   },
   "source": [
    "### Local condition"
   ]
  },
  {
   "cell_type": "code",
   "execution_count": 13,
   "metadata": {},
   "outputs": [],
   "source": [
    "v_cut = 10\n",
    "b_cut = 30"
   ]
  },
  {
   "cell_type": "code",
   "execution_count": 14,
   "metadata": {
    "collapsed": true
   },
   "outputs": [],
   "source": [
    "local_idx = (np.abs(moment_1_means) < v_cut) & ((np.abs(bs) > b_cut) | (np.abs(bs) < b_cut) & ((ls < 90) | (ls > 270)))\n",
    "# (v < 10) AND (b > 30 OR (b < 30 AND not galactic 180))"
   ]
  },
  {
   "cell_type": "markdown",
   "metadata": {},
   "source": [
    "### Stilism distance for local filaments and flat rot curve nearside distance for others"
   ]
  },
  {
   "cell_type": "code",
   "execution_count": 88,
   "metadata": {
    "collapsed": true
   },
   "outputs": [],
   "source": [
    "dist = np.zeros_like(stilism_dist)\n",
    "dist[local_idx] = stilism_dist[local_idx]\n",
    "dist[~local_idx] = flatcurve_dist[~local_idx]"
   ]
  },
  {
   "cell_type": "code",
   "execution_count": 89,
   "metadata": {},
   "outputs": [],
   "source": [
    "dist[dist < 75] = 100\n",
    "lower_bound_flag = (dist > 9999)"
   ]
  },
  {
   "cell_type": "code",
   "execution_count": 90,
   "metadata": {},
   "outputs": [],
   "source": [
    "width_fits_raw_dcorr = width_fits_raw * (dist / 100)"
   ]
  },
  {
   "cell_type": "code",
   "execution_count": null,
   "metadata": {},
   "outputs": [],
   "source": []
  },
  {
   "cell_type": "code",
   "execution_count": 81,
   "metadata": {},
   "outputs": [
    {
     "data": {
      "image/png": "[encoded data removed]",
      "text/plain": [
       "<matplotlib.figure.Figure at 0x11299d9d0>"
      ]
     },
     "metadata": {},
     "output_type": "display_data"
    }
   ],
   "source": [
    "fig, ax = plt.subplots(nrows=1, ncols=1)\n",
    "ax.hist(dist, color='grey')\n",
    "ax.set_xlim(0)\n",
    "ax.set_ylabel('$\\mathrm{counts}$', fontsize=18)\n",
    "ax.set_xlabel('$\\mathrm{combined\\ Stilism\\ and\\ flatcurve\\ distance}\\ [\\mathrm{pc}]$', fontsize=18)\n",
    "fig.tight_layout()\n",
    "fig.show()"
   ]
  },
  {
   "cell_type": "code",
   "execution_count": null,
   "metadata": {
    "collapsed": true
   },
   "outputs": [],
   "source": []
  },
  {
   "cell_type": "code",
   "execution_count": 69,
   "metadata": {},
   "outputs": [
    {
     "data": {
      "image/png": "[encoded data removed]",
      "text/plain": [
       "<matplotlib.figure.Figure at 0x113ba27d0>"
      ]
     },
     "metadata": {},
     "output_type": "display_data"
    }
   ],
   "source": [
    "fig_dist_corr, axs = plt.subplots(nrows=1, ncols=2, figsize=(16, 6))\n",
    "ax1, ax2 = axs\n",
    "\n",
    "idx1 = (roundnesses < AR2ROUND['1_10'])\n",
    "idx2 = (roundnesses < AR2ROUND['1_12'])\n",
    "\n",
    "bins1 = np.arange(.1, .4, .025)\n",
    "\n",
    "n_1_8, _, _ = ax1.hist(width_fits_raw, bins1, color='grey', alpha=.3, label=r'$\\mathrm{ASPECT}\\ > 1:8$')\n",
    "_, _, _ = ax1.hist(width_fits_raw[idx1], bins1, color='grey', alpha=.6, label=r'$\\mathrm{ASPECT}\\ > 1:10$')\n",
    "_, _, _ = ax1.hist(width_fits_raw[idx2], bins1, color='grey', alpha=1, label=r'$\\mathrm{ASPECT}\\ > 1:12$')\n",
    "ax1.legend(loc='center right', fontsize=15)\n",
    "ax1.plot([np.nanmedian(width_fits_raw), np.nanmedian(width_fits_raw)], [0, max(n_1_8) * 1.1], color='red')\n",
    "ax1.text(np.nanmedian(width_fits_raw) + .005, max(n_1_8) * 1.05,\n",
    "         'Median = {0:0.3f} pc'.format(np.nanmedian(width_fits_raw)), fontsize=12)\n",
    "\n",
    "ax1.set_xlim(0.075, .4)\n",
    "ax1.set_xlabel(r'$\\mathrm{FWHM\\ on\\ the\\ sky\\ [pc]}$', fontsize=18)\n",
    "ax1.set_ylabel(r'$\\mathrm{counts}$', fontsize=18)\n",
    "\n",
    "bins2 = np.arange(.1, 1, .025)\n",
    "\n",
    "n_1_8, _, _ = ax2.hist(width_fits_raw_dcorr, bins2, color='grey', alpha=.3, label=r'$\\mathrm{ASPECT}\\ > 1:8$')\n",
    "_, _, _ = ax2.hist(width_fits_raw_dcorr[idx1], bins2, color='grey', alpha=.6, label=r'$\\mathrm{ASPECT}\\ > 1:10$')\n",
    "_, _, _ = ax2.hist(width_fits_raw_dcorr[idx2], bins2, color='grey', alpha=1, label=r'$\\mathrm{ASPECT}\\ > 1:12$')\n",
    "ax2.legend(loc='center right', fontsize=15)\n",
    "ax2.plot([np.nanmedian(width_fits_raw_dcorr), np.nanmedian(width_fits_raw_dcorr)], [0, max(n_1_8) * 1.1], color='red')\n",
    "ax2.text(np.nanmedian(width_fits_raw_dcorr) + .005, max(n_1_8) * 1.05,\n",
    "         'Median = {0:0.3f} pc'.format(np.nanmedian(width_fits_raw_dcorr)), fontsize=12)\n",
    "\n",
    "ax2.set_xlim(0.075, 1)\n",
    "ax2.set_xlabel(r'$\\mathrm{distance\\ corrected\\ FWHM\\ [pc]}$', fontsize=18)\n",
    "ax2.set_ylabel(r'$\\mathrm{counts}$', fontsize=18)\n",
    "\n",
    "fig_dist_corr.tight_layout()\n",
    "fig_dist_corr.show()"
   ]
  },
  {
   "cell_type": "markdown",
   "metadata": {},
   "source": [
    "### only local filaments"
   ]
  },
  {
   "cell_type": "code",
   "execution_count": null,
   "metadata": {},
   "outputs": [],
   "source": []
  },
  {
   "cell_type": "code",
   "execution_count": 99,
   "metadata": {},
   "outputs": [
    {
     "data": {
      "image/png": "[encoded data removed]",
      "text/plain": [
       "<matplotlib.figure.Figure at 0x111bd5c50>"
      ]
     },
     "metadata": {},
     "output_type": "display_data"
    }
   ],
   "source": [
    "fig_dist_corr_local, axs = plt.subplots(nrows=1, ncols=2, figsize=(16, 6))\n",
    "ax1, ax2 = axs\n",
    "\n",
    "idx1 = (roundnesses < AR2ROUND['1_10']) & (local_idx == True)\n",
    "idx2 = (roundnesses < AR2ROUND['1_12']) & (local_idx == True)\n",
    "\n",
    "bins1 = np.arange(.1, .4, .025)\n",
    "\n",
    "n_1_8, _, _ = ax1.hist(width_fits_raw[local_idx], bins1, color='grey', alpha=.3, label=r'$\\mathrm{ASPECT}\\ > 1:8$')\n",
    "_, _, _ = ax1.hist(width_fits_raw[idx1], bins1, color='grey', alpha=.6, label=r'$\\mathrm{ASPECT}\\ > 1:10$')\n",
    "_, _, _ = ax1.hist(width_fits_raw[idx2], bins1, color='grey', alpha=1, label=r'$\\mathrm{ASPECT}\\ > 1:12$')\n",
    "ax1.legend(loc='center right', fontsize=15)\n",
    "ax1.plot([np.nanmedian(width_fits_raw[local_idx]), np.nanmedian(width_fits_raw[local_idx])],\n",
    "         [0, max(n_1_8) * 1.1], color='red')\n",
    "ax1.text(np.nanmedian(width_fits_raw[local_idx]) + .005, max(n_1_8) * 1.05,\n",
    "         'Median = {0:0.3f} pc'.format(np.nanmedian(width_fits_raw[local_idx])), fontsize=12)\n",
    "\n",
    "ax1.set_xlim(0.075, .7)\n",
    "ax1.set_xlabel(r'$\\mathrm{FWHM\\ on\\ the\\ sky\\ [pc]}$', fontsize=18)\n",
    "ax1.set_ylabel(r'$\\mathrm{counts}$', fontsize=18)\n",
    "\n",
    "width_fits_raw_dcorr = width_fits_raw * (dist / 100)\n",
    "bins2 = np.arange(.075, 1, .025)\n",
    "\n",
    "n_1_8, _, _ = ax2.hist(width_fits_raw_dcorr[local_idx], bins2, color='grey', alpha=.3, label=r'$\\mathrm{ASPECT}\\ > 1:8$')\n",
    "_, _, _ = ax2.hist(width_fits_raw_dcorr[idx1], bins2, color='grey', alpha=.6, label=r'$\\mathrm{ASPECT}\\ > 1:10$')\n",
    "_, _, _ = ax2.hist(width_fits_raw_dcorr[idx2], bins2, color='grey', alpha=1, label=r'$\\mathrm{ASPECT}\\ > 1:12$')\n",
    "ax2.legend(loc='center right', fontsize=15)\n",
    "ax2.plot([np.nanmedian(width_fits_raw_dcorr[local_idx]), np.nanmedian(width_fits_raw_dcorr[local_idx])],\n",
    "         [0, max(n_1_8) * 1.1], color='red')\n",
    "ax2.text(np.nanmedian(width_fits_raw_dcorr[local_idx]) + .005, max(n_1_8) * 1.05,\n",
    "         'Median = {0:0.3f} pc'.format(np.nanmedian(width_fits_raw_dcorr[local_idx])), fontsize=12)\n",
    "\n",
    "ax2.set_xlim(0.075, .7)\n",
    "ax2.set_xlabel(r'$\\mathrm{distance\\ corrected\\ FWHM\\ [pc]}$', fontsize=18)\n",
    "ax2.set_ylabel(r'$\\mathrm{counts}$', fontsize=18)\n",
    "\n",
    "fig_dist_corr_local.suptitle('$\\mathrm{local\\ filaments}$', fontsize=21)\n",
    "\n",
    "#fig_dist_corr.tight_layout()\n",
    "fig_dist_corr_local.show()"
   ]
  },
  {
   "cell_type": "code",
   "execution_count": 100,
   "metadata": {},
   "outputs": [],
   "source": [
    "fig_dist_corr_local.savefig('../../vis/all_sky_maps_fourth_batch/FWHM_hist_dcorr_local.pdf')"
   ]
  },
  {
   "cell_type": "code",
   "execution_count": 101,
   "metadata": {},
   "outputs": [
    {
     "data": {
      "text/plain": [
       "29.753486553826338"
      ]
     },
     "execution_count": 101,
     "metadata": {},
     "output_type": "execute_result"
    }
   ],
   "source": [
    "max(width_fits_raw_dcorr)"
   ]
  },
  {
   "cell_type": "code",
   "execution_count": null,
   "metadata": {},
   "outputs": [],
   "source": []
  },
  {
   "cell_type": "code",
   "execution_count": null,
   "metadata": {
    "collapsed": true
   },
   "outputs": [],
   "source": []
  }
 ],
 "metadata": {
  "kernelspec": {
   "display_name": "Python 2",
   "language": "python",
   "name": "python2"
  },
  "language_info": {
   "codemirror_mode": {
    "name": "ipython",
    "version": 2
   },
   "file_extension": ".py",
   "mimetype": "text/x-python",
   "name": "python",
   "nbconvert_exporter": "python",
   "pygments_lexer": "ipython2",
   "version": "2.7.13"
  }
 },
 "nbformat": 4,
 "nbformat_minor": 1
}
