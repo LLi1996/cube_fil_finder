{
 "cells": [
  {
   "cell_type": "markdown",
   "metadata": {},
   "source": [
    "# Example notebook loading filament properties"
   ]
  },
  {
   "cell_type": "code",
   "execution_count": 4,
   "metadata": {
    "collapsed": true
   },
   "outputs": [],
   "source": [
    "import numpy as np"
   ]
  },
  {
   "cell_type": "code",
   "execution_count": 1,
   "metadata": {
    "collapsed": true
   },
   "outputs": [],
   "source": [
    "data_file_path = '../../data_out/fourth_batch_all_prop.txt'"
   ]
  },
  {
   "cell_type": "code",
   "execution_count": 2,
   "metadata": {
    "collapsed": true
   },
   "outputs": [],
   "source": [
    "# all the data fields\n",
    "keys = ['key_num',\n",
    "        'ra',\n",
    "        'dec',\n",
    "        'l',\n",
    "        'b',\n",
    "        'size',\n",
    "        'roundness',\n",
    "        'starting_velocity',\n",
    "        'velocity_span',\n",
    "        'average_velocity',\n",
    "        'moment_0_mean',\n",
    "        'moment_0_median',\n",
    "        'moment_0_peak',\n",
    "        'moment_0_mean_raw',\n",
    "        'moment_0_median_raw',\n",
    "        'moment_0_peak_raw',\n",
    "        'moment_1_mean',\n",
    "        'moment_1_median',\n",
    "        'moment_2_mean',\n",
    "        'moment_2_median',\n",
    "        'moment_2_peak',\n",
    "        'column_density_mean',\n",
    "        'column_density_median',\n",
    "        'column_density_peak',\n",
    "        'column_density_mean_raw',\n",
    "        'column_density_median_raw',\n",
    "        'column_density_peak_raw',\n",
    "        'width_fit',\n",
    "        'width_err',\n",
    "        'width_fit_raw',\n",
    "        'width_err_raw']"
   ]
  },
  {
   "cell_type": "code",
   "execution_count": 5,
   "metadata": {},
   "outputs": [],
   "source": [
    "data = np.loadtxt(data_file_path, delimiter=',')"
   ]
  },
  {
   "cell_type": "code",
   "execution_count": 6,
   "metadata": {},
   "outputs": [
    {
     "data": {
      "text/plain": [
       "(1073, 31)"
      ]
     },
     "execution_count": 6,
     "metadata": {},
     "output_type": "execute_result"
    }
   ],
   "source": [
    "data.shape # 1073 trees (excluding edge cases), 31 fields outlined in keys"
   ]
  },
  {
   "cell_type": "code",
   "execution_count": 7,
   "metadata": {},
   "outputs": [],
   "source": [
    "key_nums = data[:, 0]\n",
    "ras = data[:, 1]\n",
    "decs = data[:, 2]\n",
    "ls = data[:, 3]\n",
    "bs = data[:, 4]\n",
    "sizes = data[:, 5]\n",
    "roundnesses = data[:, 6]\n",
    "starting_velocities = data[:, 7]\n",
    "velocity_spans = data[:, 8]\n",
    "average_velocities = data[:, 9]\n",
    "moment_0_means = data[:, 10]\n",
    "moment_0_medians = data[:, 11]\n",
    "moment_0_peaks = data[:, 12]\n",
    "moment_0_means_raw = data[:, 13]\n",
    "moment_0_medians_raw = data[:, 14]\n",
    "moment_0_peaks_raw = data[:, 15]\n",
    "moment_1_means = data[:, 16]\n",
    "moment_1_medians = data[:, 17]\n",
    "moment_2_means = data[:, 18]\n",
    "moment_2_medians = data[:, 19]\n",
    "moment_2_peaks = data[:, 20]\n",
    "column_density_means = data[:, 21]\n",
    "column_density_medians = data[:, 22]\n",
    "column_density_peaks = data[:, 23]\n",
    "column_density_means_raw = data[:, 24]\n",
    "column_density_medians_raw = data[:, 25]\n",
    "column_density_peaks_raw = data[:, 26]\n",
    "width_fits = data[:, 27]\n",
    "width_errs = data[:, 28]\n",
    "width_fits_raw = data[:, 29]\n",
    "width_errs_raw = data[:, 30]"
   ]
  },
  {
   "cell_type": "code",
   "execution_count": null,
   "metadata": {},
   "outputs": [],
   "source": []
  },
  {
   "cell_type": "code",
   "execution_count": null,
   "metadata": {
    "collapsed": true
   },
   "outputs": [],
   "source": []
  }
 ],
 "metadata": {
  "kernelspec": {
   "display_name": "Python 2",
   "language": "python",
   "name": "python2"
  },
  "language_info": {
   "codemirror_mode": {
    "name": "ipython",
    "version": 2
   },
   "file_extension": ".py",
   "mimetype": "text/x-python",
   "name": "python",
   "nbconvert_exporter": "python",
   "pygments_lexer": "ipython2",
   "version": "2.7.13"
  }
 },
 "nbformat": 4,
 "nbformat_minor": 1
}
