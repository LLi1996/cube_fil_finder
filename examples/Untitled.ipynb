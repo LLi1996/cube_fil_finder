{
 "cells": [
  {
   "cell_type": "code",
   "execution_count": 4,
   "metadata": {
    "collapsed": true
   },
   "outputs": [],
   "source": [
    "from astropy.io import fits\n",
    "import pickle"
   ]
  },
  {
   "cell_type": "code",
   "execution_count": 3,
   "metadata": {
    "collapsed": false
   },
   "outputs": [
    {
     "name": "stderr",
     "output_type": "stream",
     "text": [
      "WARNING: VerifyWarning: Invalid 'BLANK' keyword in header.  The 'BLANK' keyword is only applicable to integer data, and will be ignored in this HDU. [astropy.io.fits.hdu.image]\n"
     ]
    },
    {
     "data": {
      "text/plain": [
       "SIMPLE  =                    T / conforms to FITS standard                      \n",
       "BITPIX  =                  -64 / array data type                                \n",
       "NAXIS   =                    2 / number of array dimensions                     \n",
       "NAXIS1  =                21600                                                  \n",
       "NAXIS2  =                 2432                                                  \n",
       "OBJECT  = 'Allsky Channel Map' / Object name                                    \n",
       "CTYPE1  = 'RA      '           /  1st axis type                                 \n",
       "CRVAL1  =              180.000 /  Reference pixel value                         \n",
       "CRPIX1  =              10800.5 / Reference pixel                                \n",
       "CDELT1  =           -0.0166667 /  Pixel size in world coordinate units          \n",
       "CROTA1  =               0.0000 /  Axis rotation in degrees                      \n",
       "CTYPE2  = 'DEC     '           /  2nd axis type                                 \n",
       "CRVAL2  =              2.35000 /  Reference pixel value                         \n",
       "CRPIX2  =              256.500 /  Reference pixel                               \n",
       "CDELT2  =            0.0166667 /  Pixel size in world coordinate units          \n",
       "CROTA2  =               0.0000 /  Axis rotation in degrees                      \n",
       "EQUINOX =              2000.00 /  Equinox of coordinates (if any)               \n",
       "BUNIT   = 'K (Tb)'                                 /  Units of pixel data values\n",
       "BLANK   =               -32768 /  Raw pixel value indicating no data            \n",
       "OBSFREQ =        1.4204058E+09 /                                                \n",
       "TELESCOP= 'Arecibo 305m'                                                        \n",
       "INSTRUME= 'Arecibo L-Band Feed Array (ALFA)'                                    \n",
       "OBSERVER= 'Turn On Galfa Survey (TOGS)'                                         \n",
       "HISTORY >                                                                       \n",
       "HISTORY *********************************************************************   \n",
       "HISTORY The data in this FITS file have been produced by the GALFA-HI           \n",
       "HISTORY consortium in concert with the TOGS subgroup. The GALFA Consortium      \n",
       "HISTORY was formed in 2003 to use the 7-element Arecibo L-band Feed Array       \n",
       "HISTORY (ALFA) instrument for surveys of the Galactic Insterstellar Medium      \n",
       "HISTORY (ISM) with the Arecibo 305m telescope.  These data are currently only   \n",
       "HISTORY for internal group use: The                                             \n",
       "HISTORY GALFA-HI/TOGS team has made reasonable efforts to produce accurate      \n",
       "HISTORY data, but no warranty is expressed or implied as to the suitability     \n",
       "HISTORY of the data for any particular purpose. Please see Peek, J. E. G. et al.\n",
       "HISTORY 2011, The Astrophysical Journal Supplement, Volume 194, Issue 2, article\n",
       "HISTORY id. 20, 13 pp. doi:10.1088/0067-0049/194/2/20. Note that many           \n",
       "HISTORY further advancements have been made, to be described in a forthcoming   \n",
       "HISTORY Data Release 2 paper.                                                   \n",
       "HISTORY >                                                                       \n",
       "HISTORY Further information on GALFA-HI and TOGS is available at the GALFA-HI   \n",
       "HISTORY website at http://sites.google.com/site/galfahi/.                       \n",
       "HISTORY *********************************************************************   \n",
       "HISTORY >                                                                       \n",
       "HISTORY Channel map at VLSR = -50.4 km/s.                                       "
      ]
     },
     "execution_count": 3,
     "metadata": {},
     "output_type": "execute_result"
    }
   ],
   "source": [
    "fits.getheader('/Volumes/LarryExternal1/Research_2017/GALFA_slices_backup/unprocessed_slices_from_susan/GALFA_HI_W_S0955_V-050.4kms.fits')"
   ]
  },
  {
   "cell_type": "code",
   "execution_count": 8,
   "metadata": {
    "collapsed": false
   },
   "outputs": [],
   "source": [
    "p = pickle.load(open('../../pickled_dicts/fourth_batch/all_trees_1_8.p', 'rb'))"
   ]
  },
  {
   "cell_type": "code",
   "execution_count": 11,
   "metadata": {
    "collapsed": false
   },
   "outputs": [],
   "source": [
    "p_ex = p['947_1049_0']"
   ]
  },
  {
   "cell_type": "code",
   "execution_count": 18,
   "metadata": {
    "collapsed": false
   },
   "outputs": [],
   "source": [
    "pickle.dump(p_ex, open('../../pickled_dicts/fourth_batch/example_tree.p', 'wb'))"
   ]
  },
  {
   "cell_type": "code",
   "execution_count": null,
   "metadata": {
    "collapsed": false
   },
   "outputs": [],
   "source": []
  },
  {
   "cell_type": "code",
   "execution_count": null,
   "metadata": {
    "collapsed": true
   },
   "outputs": [],
   "source": []
  }
 ],
 "metadata": {
  "kernelspec": {
   "display_name": "Python 2",
   "language": "python",
   "name": "python2"
  },
  "language_info": {
   "codemirror_mode": {
    "name": "ipython",
    "version": 2
   },
   "file_extension": ".py",
   "mimetype": "text/x-python",
   "name": "python",
   "nbconvert_exporter": "python",
   "pygments_lexer": "ipython2",
   "version": "2.7.12"
  }
 },
 "nbformat": 4,
 "nbformat_minor": 0
}
