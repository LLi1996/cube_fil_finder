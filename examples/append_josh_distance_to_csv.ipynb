{
 "cells": [
  {
   "cell_type": "code",
   "execution_count": 18,
   "metadata": {
    "collapsed": true
   },
   "outputs": [],
   "source": [
    "import pandas as pd\n",
    "import os\n",
    "from cube_fil_finder.util import distance"
   ]
  },
  {
   "cell_type": "code",
   "execution_count": 10,
   "metadata": {
    "collapsed": true
   },
   "outputs": [],
   "source": [
    "base_dir = '/Users/larryli/Documents/CC/16-17/research/3d_filfind/data_out'"
   ]
  },
  {
   "cell_type": "code",
   "execution_count": 16,
   "metadata": {
    "collapsed": true
   },
   "outputs": [],
   "source": [
    "fourth_batch_from_mary_path = os.path.join(base_dir, 'fourth_batch_all_prop_new_withunits_check.csv')"
   ]
  },
  {
   "cell_type": "code",
   "execution_count": 17,
   "metadata": {
    "collapsed": true
   },
   "outputs": [],
   "source": [
    "df_from_mary = pd.read_csv(fourth_batch_from_mary_path)"
   ]
  },
  {
   "cell_type": "code",
   "execution_count": 20,
   "metadata": {
    "collapsed": true
   },
   "outputs": [],
   "source": [
    "df_with_dist_column = pd.DataFrame(df_from_mary)"
   ]
  },
  {
   "cell_type": "code",
   "execution_count": 51,
   "metadata": {
    "collapsed": true
   },
   "outputs": [],
   "source": [
    "dist_column_name = 'nearside_flatcurve_dist [pc]'"
   ]
  },
  {
   "cell_type": "code",
   "execution_count": 30,
   "metadata": {},
   "outputs": [],
   "source": [
    "df_with_dist_column[dist_column_name] = pd.np.nan"
   ]
  },
  {
   "cell_type": "code",
   "execution_count": 42,
   "metadata": {},
   "outputs": [],
   "source": [
    "for i, row in df_from_mary.iterrows():\n",
    "    l, b, v = row[['l [deg]', 'b [deg]', 'moment_1_mean [km/s]']]\n",
    "    nearside_flatcurve_dist = distance.nearside_flatcurve_distance(l, b, v)\n",
    "    df_with_dist_column.at[i, dist_column_name] = nearside_flatcurve_dist"
   ]
  },
  {
   "cell_type": "code",
   "execution_count": 55,
   "metadata": {},
   "outputs": [
    {
     "data": {
      "text/plain": [
       "Index([u'Unnamed: 0', u'id', u'average_velocity [km/s]',\n",
       "       u'column_density_mean [1/cm^2]', u'column_density_mean_raw [1/cm^2]',\n",
       "       u'column_density_median [1/cm^2]',\n",
       "       u'column_density_median_raw [1/cm^2]', u'column_density_peak [1/cm^2]',\n",
       "       u'column_density_peak_raw [1/cm^2]', u'key_num', u'l [deg]', u'b [deg]',\n",
       "       u'moment_0_mean [kkm/s]', u'moment_0_mean_raw [kkm/s]',\n",
       "       u'moment_0_median [kkm/s]', u'moment_0_median_raw [kkm/s]',\n",
       "       u'moment_0_peak [kkm/s]', u'moment_0_peak_raw [kkm/s]',\n",
       "       u'moment_1_mean [km/s]', u'moment_1_median [km/s]',\n",
       "       u'moment_2_mean [km/s]', u'moment_2_median [km/s]',\n",
       "       u'moment_2_peak [km/s]', u'ra [deg]', u'dec [deg]', u'reduced_chi2',\n",
       "       u'reduced_chi2_raw', u'roundness', u'size [# pixels^2]',\n",
       "       u'starting_velocity [km/s]', u'velocity_span [km/s]', u'width_err [pc]',\n",
       "       u'width_err_raw [pc]', u'width_fit [pc]', u'width_fit_raw [pc]',\n",
       "       u'nearside_flatcurve_dist [pc]'],\n",
       "      dtype='object')"
      ]
     },
     "execution_count": 55,
     "metadata": {},
     "output_type": "execute_result"
    }
   ],
   "source": [
    "df_with_dist_column.columns"
   ]
  },
  {
   "cell_type": "code",
   "execution_count": 56,
   "metadata": {},
   "outputs": [],
   "source": [
    "save_path = os.path.join(base_dir, 'fourth_batch_all_prop_new_withunits_and_nearside_flatcurve_dist.csv')"
   ]
  },
  {
   "cell_type": "code",
   "execution_count": 57,
   "metadata": {},
   "outputs": [],
   "source": [
    "df_with_dist_column.to_csv(save_path)"
   ]
  },
  {
   "cell_type": "code",
   "execution_count": null,
   "metadata": {},
   "outputs": [],
   "source": []
  },
  {
   "cell_type": "code",
   "execution_count": null,
   "metadata": {
    "collapsed": true
   },
   "outputs": [],
   "source": []
  }
 ],
 "metadata": {
  "kernelspec": {
   "display_name": "Python 2",
   "language": "python",
   "name": "python2"
  },
  "language_info": {
   "codemirror_mode": {
    "name": "ipython",
    "version": 2
   },
   "file_extension": ".py",
   "mimetype": "text/x-python",
   "name": "python",
   "nbconvert_exporter": "python",
   "pygments_lexer": "ipython2",
   "version": "2.7.13"
  }
 },
 "nbformat": 4,
 "nbformat_minor": 2
}
