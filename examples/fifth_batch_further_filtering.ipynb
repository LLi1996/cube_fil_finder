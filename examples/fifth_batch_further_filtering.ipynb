{
 "cells": [
  {
   "cell_type": "code",
   "execution_count": 20,
   "metadata": {
    "collapsed": true
   },
   "outputs": [],
   "source": [
    "import pickle\n",
    "import logging\n",
    "import pandas as pd\n",
    "import numpy as np\n",
    "% matplotlib inline"
   ]
  },
  {
   "cell_type": "code",
   "execution_count": null,
   "metadata": {
    "collapsed": true
   },
   "outputs": [],
   "source": [
    "from cube_fil_finder.galfa import galfa_const"
   ]
  },
  {
   "cell_type": "code",
   "execution_count": 2,
   "metadata": {
    "collapsed": true
   },
   "outputs": [],
   "source": [
    "prop_df = pd.read_csv('../../data_out/fifth_batch_all_prop_v2.csv')"
   ]
  },
  {
   "cell_type": "code",
   "execution_count": 3,
   "metadata": {},
   "outputs": [
    {
     "name": "stdout",
     "output_type": "stream",
     "text": [
      "starting out with 3395 trees\n"
     ]
    }
   ],
   "source": [
    "print('starting out with {} trees'.format(len(prop_df)))"
   ]
  },
  {
   "cell_type": "markdown",
   "metadata": {},
   "source": [
    "### basket weaves and edges\n",
    "\n",
    "manually picked out by looking at the column plots"
   ]
  },
  {
   "cell_type": "code",
   "execution_count": 4,
   "metadata": {
    "collapsed": true
   },
   "outputs": [],
   "source": [
    "bw_and_edges_keys = [\n",
    "    '900_1066_1', '375_1057_25', '798_1012_3', '947_1049_0', '1259_1063_0',\n",
    "    '418_1050_6', '467_1074_13', '620_1013_5', '684_1054_7', '791_1055_3',\n",
    "    '850_993_2', '859_1000_1', '940_1015_3', '1083_1061_2', '1175_1061_0',\n",
    "    '1383_1060_0', '2381_1000_0', '364_1008_0', '379_1016_4', '383_1030_1',\n",
    "    '390_1084_6', '396_1039_2', '420_985_12', '437_1016_13', '471_1043_8',\n",
    "    '474_1003_12', '500_1031_0', '609_1041_4', '614_976_2', '621_999_0',\n",
    "    '628_1023_0', '699_989_0', '742_1016_1', '746_1040_2', '766_1042_1',\n",
    "    '865_1025_5', '871_1005_0', '911_1024_3', '955_1059_1', '959_1010_0',\n",
    "    '971_1057_1', '1030_1010_0', '1043_1042_0', '1098_1026_3', '1258_1034_0',\n",
    "    '1294_1019_0', '1731_1054_0', '1884_1007_0', '2068_1019_0', '2116_1024_2',\n",
    "    '460_1020_2', '1978_1028_0', '594_1022_2', '1020_1032_2', '1969_1030_0',\n",
    "    '559_971_0', '756_1035_4', '1169_1040_1', '1670_985_0', '2923_1029_0',\n",
    "    '423_1015_16', '482_1025_10', '557_1035_4', '951_968_3', '1103_1052_1',\n",
    "    '1196_986_2', '1302_1042_0', '3142_1048_0'\n",
    "]"
   ]
  },
  {
   "cell_type": "code",
   "execution_count": 5,
   "metadata": {
    "collapsed": true
   },
   "outputs": [],
   "source": [
    "prop_ex_bw_edge_df = prop_df.loc[~prop_df['id'].isin(bw_and_edges_keys)]"
   ]
  },
  {
   "cell_type": "code",
   "execution_count": 6,
   "metadata": {},
   "outputs": [
    {
     "name": "stdout",
     "output_type": "stream",
     "text": [
      "after taking out bw and edges we have 3327 trees\n"
     ]
    }
   ],
   "source": [
    "print('after taking out bw and edges we have {} trees'.format(len(prop_ex_bw_edge_df)))"
   ]
  },
  {
   "cell_type": "markdown",
   "metadata": {},
   "source": [
    "### fitting based\n",
    "\n",
    "removall of\n",
    "- fits that failed on the original data, or\n",
    "- had an error larger than 10% of the full width, or\n",
    "- the original data gave a smaller width than the unsharp masked data"
   ]
  },
  {
   "cell_type": "code",
   "execution_count": 7,
   "metadata": {},
   "outputs": [
    {
     "data": {
      "text/plain": [
       "Index([u'average_velocity', u'b', u'column_density_mean',\n",
       "       u'column_density_mean_raw', u'column_density_mean_raw_no_umask',\n",
       "       u'column_density_median', u'column_density_median_raw',\n",
       "       u'column_density_median_raw_no_umask', u'column_density_peak',\n",
       "       u'column_density_peak_raw', u'column_density_peak_raw_no_umask', u'dec',\n",
       "       u'id', u'l', u'moment_0_mean', u'moment_0_mean_raw',\n",
       "       u'moment_0_mean_raw_no_umask', u'moment_0_median',\n",
       "       u'moment_0_median_raw', u'moment_0_median_raw_no_umask',\n",
       "       u'moment_0_peak', u'moment_0_peak_raw', u'moment_0_peak_raw_no_umask',\n",
       "       u'moment_1_mean', u'moment_1_median', u'moment_2_mean',\n",
       "       u'moment_2_median', u'moment_2_peak', u'ra', u'roundness', u'size',\n",
       "       u'starting_velocity', u'velocity_span', u'width_chisq',\n",
       "       u'width_chisq_raw', u'width_chisq_raw_no_umask', u'width_err',\n",
       "       u'width_err_raw', u'width_err_raw_no_umask', u'width_fit',\n",
       "       u'width_fit_raw', u'width_fit_raw_no_umask',\n",
       "       u'roundness_converted_mask_aspect_ratio'],\n",
       "      dtype='object')"
      ]
     },
     "execution_count": 7,
     "metadata": {},
     "output_type": "execute_result"
    }
   ],
   "source": [
    "prop_ex_bw_edge_df.columns"
   ]
  },
  {
   "cell_type": "code",
   "execution_count": 8,
   "metadata": {
    "collapsed": true,
    "scrolled": true
   },
   "outputs": [],
   "source": [
    "prop_fit_filtered_df = prop_ex_bw_edge_df.loc[  # removal of\n",
    "    ~(prop_ex_bw_edge_df['width_fit'].isnull()) &  # failed fits\n",
    "    ~(prop_ex_bw_edge_df['width_err'] > prop_ex_bw_edge_df['width_fit'] * .1) &  # of when err > 10% of width\n",
    "    ~(prop_ex_bw_edge_df['width_fit_raw_no_umask'] < prop_ex_bw_edge_df['width_fit']) # of when raw fit < unsharp fit\n",
    "]"
   ]
  },
  {
   "cell_type": "code",
   "execution_count": 9,
   "metadata": {},
   "outputs": [
    {
     "name": "stdout",
     "output_type": "stream",
     "text": [
      "after filtering on fit based requirements we have 2823 trees\n"
     ]
    }
   ],
   "source": [
    "print('after filtering on fit based requirements we have {} trees'.format(len(prop_fit_filtered_df)))"
   ]
  },
  {
   "cell_type": "code",
   "execution_count": 16,
   "metadata": {},
   "outputs": [
    {
     "name": "stderr",
     "output_type": "stream",
     "text": [
      "/Users/larryli/anaconda/envs/py27research/lib/python2.7/site-packages/ipykernel_launcher.py:3: SettingWithCopyWarning: \n",
      "A value is trying to be set on a copy of a slice from a DataFrame.\n",
      "Try using .loc[row_indexer,col_indexer] = value instead\n",
      "\n",
      "See the caveats in the documentation: http://pandas.pydata.org/pandas-docs/stable/indexing.html#indexing-view-versus-copy\n",
      "  This is separate from the ipykernel package so we can avoid doing imports until\n"
     ]
    }
   ],
   "source": [
    "prop_fit_filtered_df['num_channels'] = (prop_fit_filtered_df.velocity_span \n",
    "                                        / galfa_const.GALFA_W_SLICE_SEPARATION)\\\n",
    "    .apply(lambda x: int(round(x)))"
   ]
  },
  {
   "cell_type": "code",
   "execution_count": 17,
   "metadata": {
    "collapsed": true
   },
   "outputs": [],
   "source": [
    "prop_fit_filtered_df.to_csv('../../data_out/fifth_batch_all_prop_v2_manual_and_fit_filtered.csv', index=False)"
   ]
  },
  {
   "cell_type": "code",
   "execution_count": 18,
   "metadata": {
    "collapsed": true
   },
   "outputs": [],
   "source": [
    "prop_fit_filtered_df = pd.read_csv('../../data_out/fifth_batch_all_prop_v2_manual_and_fit_filtered.csv')"
   ]
  },
  {
   "cell_type": "code",
   "execution_count": 22,
   "metadata": {},
   "outputs": [
    {
     "data": {
      "text/plain": [
       "<matplotlib.axes._subplots.AxesSubplot at 0x10f087910>"
      ]
     },
     "execution_count": 22,
     "metadata": {},
     "output_type": "execute_result"
    },
    {
     "data": {
      "image/png": "[encoded data removed]",
      "text/plain": [
       "<matplotlib.figure.Figure at 0x1050b0410>"
      ]
     },
     "metadata": {},
     "output_type": "display_data"
    }
   ],
   "source": [
    "prop_fit_filtered_df.num_channels.hist()"
   ]
  },
  {
   "cell_type": "code",
   "execution_count": null,
   "metadata": {},
   "outputs": [],
   "source": []
  },
  {
   "cell_type": "code",
   "execution_count": null,
   "metadata": {
    "collapsed": true
   },
   "outputs": [],
   "source": []
  },
  {
   "cell_type": "code",
   "execution_count": null,
   "metadata": {},
   "outputs": [],
   "source": []
  },
  {
   "cell_type": "code",
   "execution_count": null,
   "metadata": {
    "collapsed": true
   },
   "outputs": [],
   "source": []
  },
  {
   "cell_type": "code",
   "execution_count": null,
   "metadata": {
    "collapsed": true
   },
   "outputs": [],
   "source": []
  },
  {
   "cell_type": "markdown",
   "metadata": {},
   "source": [
    "# colum plot moves"
   ]
  },
  {
   "cell_type": "code",
   "execution_count": 35,
   "metadata": {
    "collapsed": true
   },
   "outputs": [],
   "source": [
    "import os\n",
    "import glob"
   ]
  },
  {
   "cell_type": "code",
   "execution_count": 55,
   "metadata": {
    "collapsed": true
   },
   "outputs": [],
   "source": [
    "base_column_dir = '/Users/larryli/Dropbox/GALFA_filfind_yes_no_maybe/column_plots/fifth_batch_columns'"
   ]
  },
  {
   "cell_type": "code",
   "execution_count": 56,
   "metadata": {
    "collapsed": true
   },
   "outputs": [],
   "source": [
    "filtered_fil_ids = set(prop_fit_filtered_df['id'].unique())\n",
    "dry_run = False\n",
    "for folder in ['1_6', '1_8', '1_10', '1_12']:\n",
    "    base_dir = os.path.join(base_column_dir, folder)\n",
    "    f_names = glob.glob(base_dir + '/*')\n",
    "    for f_name in f_names:\n",
    "        fil_id = f_name.rsplit('/', 1)[-1].replace('.pdf', '')\n",
    "        if fil_id in filtered_fil_ids:\n",
    "            continue\n",
    "        else:\n",
    "            new_f_name = f_name.replace('fifth_batch_columns', 'fifth_batch_columns/to_remove')\n",
    "            if dry_run:\n",
    "                print(f_name, new_f_name)\n",
    "            else:\n",
    "                os.rename(f_name, new_f_name)"
   ]
  },
  {
   "cell_type": "code",
   "execution_count": null,
   "metadata": {
    "collapsed": true
   },
   "outputs": [],
   "source": []
  }
 ],
 "metadata": {
  "kernelspec": {
   "display_name": "Python 2",
   "language": "python",
   "name": "python2"
  },
  "language_info": {
   "codemirror_mode": {
    "name": "ipython",
    "version": 2
   },
   "file_extension": ".py",
   "mimetype": "text/x-python",
   "name": "python",
   "nbconvert_exporter": "python",
   "pygments_lexer": "ipython2",
   "version": "2.7.13"
  }
 },
 "nbformat": 4,
 "nbformat_minor": 2
}
