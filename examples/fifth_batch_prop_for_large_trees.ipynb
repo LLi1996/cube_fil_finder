{
 "cells": [
  {
   "cell_type": "code",
   "execution_count": 1,
   "metadata": {
    "collapsed": true
   },
   "outputs": [],
   "source": [
    "import pickle"
   ]
  },
  {
   "cell_type": "code",
   "execution_count": 2,
   "metadata": {
    "collapsed": true
   },
   "outputs": [],
   "source": [
    "from cube_fil_finder.util import moments\n",
    "from cube_fil_finder.galfa import galfa_const\n",
    "from cube_fil_finder.galfa import galfa_util\n",
    "from cube_fil_finder.vis import node_vis\n",
    "from cube_fil_finder.util import cube_moments\n",
    "from cube_fil_finder.util import cube_util\n",
    "from cube_fil_finder.util import widths\n",
    "\n",
    "import os\n",
    "import logging\n",
    "import pickle\n",
    "import numpy as np\n",
    "from matplotlib import pyplot as plt\n",
    "from matplotlib import patches as mpatches"
   ]
  },
  {
   "cell_type": "code",
   "execution_count": 3,
   "metadata": {
    "collapsed": true
   },
   "outputs": [],
   "source": [
    "trees = pickle.load(open('../../pickled_dicts/fifth_batch/filtered_trees_1_6.p'))"
   ]
  },
  {
   "cell_type": "code",
   "execution_count": 4,
   "metadata": {
    "collapsed": true
   },
   "outputs": [],
   "source": [
    "all_trees_mask_orientation_info = pickle.load(open('../../pickled_dicts/fifth_batch/all_trees_mask_orientation_info.p'))"
   ]
  },
  {
   "cell_type": "code",
   "execution_count": 5,
   "metadata": {
    "collapsed": true
   },
   "outputs": [],
   "source": [
    "logging.getLogger().setLevel('DEBUG')"
   ]
  },
  {
   "cell_type": "code",
   "execution_count": 6,
   "metadata": {},
   "outputs": [
    {
     "name": "stderr",
     "output_type": "stream",
     "text": [
      "WARNING: VerifyWarning: Invalid 'BLANK' keyword in header.  The 'BLANK' keyword is only applicable to integer data, and will be ignored in this HDU. [astropy.io.fits.hdu.image]\n"
     ]
    }
   ],
   "source": [
    "from astropy.io import fits\n",
    "from astropy import units as u\n",
    "# example header\n",
    "hdr = fits.getheader('/Volumes/LarryExternal1/Research_2017/GALFA_slices_backup/umask_gaussian_30/GALFA_HI_W_S0955_V-050.4kms_umask.fits')"
   ]
  },
  {
   "cell_type": "code",
   "execution_count": 7,
   "metadata": {
    "collapsed": true
   },
   "outputs": [],
   "source": [
    "trees_data_1_6 = {}"
   ]
  },
  {
   "cell_type": "code",
   "execution_count": 13,
   "metadata": {
    "collapsed": true
   },
   "outputs": [],
   "source": [
    "all_trees = {k: v for k, v in trees.items() if v.getTreeMaskedArea2D() >= 20000}"
   ]
  },
  {
   "cell_type": "code",
   "execution_count": 14,
   "metadata": {},
   "outputs": [
    {
     "data": {
      "text/plain": [
       "[21052,\n",
       " 25020,\n",
       " 30788,\n",
       " 41654,\n",
       " 21015,\n",
       " 42888,\n",
       " 23875,\n",
       " 94377,\n",
       " 25646,\n",
       " 115157,\n",
       " 21216,\n",
       " 20724,\n",
       " 30215]"
      ]
     },
     "execution_count": 14,
     "metadata": {},
     "output_type": "execute_result"
    }
   ],
   "source": [
    "[v.getTreeMaskedArea2D() for k, v in all_trees.items()]"
   ]
  },
  {
   "cell_type": "code",
   "execution_count": 15,
   "metadata": {},
   "outputs": [
    {
     "name": "stderr",
     "output_type": "stream",
     "text": [
      "DEBUG:root:on key: 422_964_25\n",
      "DEBUG:root:doing gaussian umask filter\n",
      "DEBUG:root:saving figure at ../../vis/column_plots_fifth_batch/1_6/422_964_25.pdf\n",
      "DEBUG:root:on key: 24903_1025_0\n",
      "DEBUG:root:doing gaussian umask filter\n",
      "DEBUG:root:saving figure at ../../vis/column_plots_fifth_batch/1_10/24903_1025_0.pdf\n",
      "DEBUG:root:on key: 537_1041_3\n",
      "DEBUG:root:doing gaussian umask filter\n",
      "DEBUG:root:saving figure at ../../vis/column_plots_fifth_batch/1_6/537_1041_3.pdf\n",
      "DEBUG:root:on key: 41615_1042_0\n",
      "DEBUG:root:doing gaussian umask filter\n",
      "DEBUG:root:saving figure at ../../vis/column_plots_fifth_batch/1_6/41615_1042_0.pdf\n",
      "DEBUG:root:on key: 19662_1016_0\n",
      "DEBUG:root:doing gaussian umask filter\n",
      "DEBUG:root:saving figure at ../../vis/column_plots_fifth_batch/1_12/19662_1016_0.pdf\n",
      "DEBUG:root:on key: 37552_1054_0\n",
      "DEBUG:root:doing gaussian umask filter\n",
      "DEBUG:root:saving figure at ../../vis/column_plots_fifth_batch/1_8/37552_1054_0.pdf\n",
      "DEBUG:root:on key: 848_1017_0\n",
      "DEBUG:root:doing gaussian umask filter\n",
      "DEBUG:root:saving figure at ../../vis/column_plots_fifth_batch/1_12/848_1017_0.pdf\n",
      "DEBUG:root:on key: 93276_955_0\n",
      "DEBUG:root:doing gaussian umask filter\n",
      "DEBUG:root:saving figure at ../../vis/column_plots_fifth_batch/1_6/93276_955_0.pdf\n",
      "DEBUG:root:on key: 22547_1038_0\n",
      "DEBUG:root:doing gaussian umask filter\n",
      "DEBUG:root:saving figure at ../../vis/column_plots_fifth_batch/1_6/22547_1038_0.pdf\n",
      "DEBUG:root:on key: 114073_955_0\n",
      "DEBUG:root:doing gaussian umask filter\n",
      "DEBUG:root:saving figure at ../../vis/column_plots_fifth_batch/1_6/114073_955_0.pdf\n",
      "DEBUG:root:on key: 1795_1036_0\n",
      "DEBUG:root:doing gaussian umask filter\n",
      "DEBUG:root:saving figure at ../../vis/column_plots_fifth_batch/1_6/1795_1036_0.pdf\n",
      "DEBUG:root:on key: 20702_1042_0\n",
      "DEBUG:root:doing gaussian umask filter\n",
      "DEBUG:root:saving figure at ../../vis/column_plots_fifth_batch/1_6/20702_1042_0.pdf\n",
      "DEBUG:root:on key: 24318_1057_0\n",
      "DEBUG:root:doing gaussian umask filter\n",
      "DEBUG:root:saving figure at ../../vis/column_plots_fifth_batch/1_6/24318_1057_0.pdf\n"
     ]
    }
   ],
   "source": [
    "for i, k in enumerate(all_trees):\n",
    "    tree = all_trees[k]\n",
    "    logging.debug('on key: {0}'.format(k))\n",
    "\n",
    "    if all_trees_mask_orientation_info.get(k, [1])[-1] > moments.ROUNDNESS_AR_CONVERSION['1_6']:\n",
    "        logging.debug('skipping b/c {0} didn\\'t make the base ~1:6 aspect ratio cut'.format(k))\n",
    "        continue\n",
    "    \n",
    "    corners = tree.root_node.corners\n",
    "    if (\n",
    "        corners[1][0] > galfa_const.GALFA_Y_STEPS - 10 or \n",
    "        corners[1][1] > galfa_const.GALFA_X_STEPS - 10 or \n",
    "        corners[0][0] < 10 or \n",
    "        corners[0][1] < 10):\n",
    "        logging.debug('skipping b/c {0} is too close to the edge'.format(k))\n",
    "        continue \n",
    "\n",
    "    # 2d binary numpy mask\n",
    "    tree_mask = tree.root_node.mask\n",
    "    # number of pixels masked\n",
    "    tree_size = tree.root_node.masked_area_size\n",
    "    # velocity span in km/s from number of channels\n",
    "    tree_v_span = tree.length * galfa_const.GALFA_W_SLICE_SEPARATION\n",
    "    tree_starting_v_index = tree.root_v_slice\n",
    "\n",
    "    # \"average velocity\" use mean/med/max of moment 1 map instead\n",
    "    tree_avg_v = galfa_util.galfa_v_lookup_from_index(tree_starting_v_index + tree_v_span / 2.)\n",
    "    \n",
    "    # centroid and roundness measurement of the mask\n",
    "    x_bar, y_bar, theta_1, theta_2, tree_roundness = all_trees_mask_orientation_info.get(k, [np.inf] * 5)\n",
    "    # conversion of the centroid index into ra&dec and l&b\n",
    "    tree_ra, tree_dec = galfa_util.galfa_index_to_radecs(x_bar, y_bar)\n",
    "    tree_l, tree_b = galfa_util.galfa_index_to_lb(x_bar, y_bar)\n",
    "    # convert the corners into ra&dec\n",
    "    xs = [tree.root_node.corners[0][1], tree.root_node.corners[1][1]]\n",
    "    ys = [tree.root_node.corners[0][0], tree.root_node.corners[1][0]]\n",
    "    corners_ra, corners_dec = galfa_util.galfa_index_to_radecs(xs, ys)    \n",
    "    \n",
    "    # list of cut umask slices\n",
    "    tree_data_cube = galfa_util.get_galfa_data_cube_from_tree(tree)\n",
    "    # list of cut raw slices\n",
    "    tree_data_cube_raw = galfa_util.get_galfa_data_cube_from_tree(tree, cube_type='raw')\n",
    "\n",
    "    # moment 0 from the umask slices\n",
    "    full_moment_0_map = np.nan_to_num(cube_moments.moment_0_from_cube(tree_data_cube))\n",
    "    # moment 0 from the raw slices\n",
    "    full_moment_0_map_raw = np.nan_to_num(cube_moments.moment_0_from_cube(tree_data_cube_raw))\n",
    "    # unsharp masking the moment 0 from the raw slices\n",
    "    full_moment_0_map_umask = cube_util.umask(full_moment_0_map_raw, radius=30, filter_opt='gaussian')\n",
    "\n",
    "    # moment 0, 1, 2, column maps with pixels not in the mask NaN'd out\n",
    "    moment_0_map = cube_moments.moment_0_from_cube(tree_data_cube, mask=tree_mask)\n",
    "    moment_0_map_raw = full_moment_0_map_umask.copy()\n",
    "    moment_0_map_raw[np.where(tree_mask == 0)] = np.nan\n",
    "    moment_1_map = cube_moments.moment_1_from_cube(tree_data_cube, tree_starting_v_index, tree.length, mask=tree_mask)\n",
    "    moment_2_map = cube_moments.moment_2_from_cube(tree_data_cube, tree_starting_v_index, tree.length, mask=tree_mask)\n",
    "    column_density_map = cube_moments.column_density_from_moment_0_map(moment_0_map)\n",
    "    column_density_map_raw = cube_moments.column_density_from_moment_0_map(moment_0_map_raw)\n",
    "\n",
    "    # width fits, errors, and chisq from both the (umask-->moment0) and the (raw-->moment0-->umask) moment0s\n",
    "    #width_fit, width_fit_err, chisq = widths.get_width_fit_filfind(full_moment_0_map, tree, hdr)\n",
    "    #width_fit_raw, width_fit_err_raw, chisq_raw = widths.get_width_fit_filfind(full_moment_0_map_umask, tree, hdr)\n",
    "\n",
    "    tree_data = {}\n",
    "    tree_data['key_num'] = i\n",
    "    tree_data['roundness'] = tree_roundness\n",
    "    tree_data['size'] = tree_size\n",
    "    tree_data['ra'] = tree_ra\n",
    "    tree_data['dec'] = tree_dec\n",
    "    tree_data['l'] = tree_l\n",
    "    tree_data['b'] = tree_b\n",
    "    tree_data['velocity_span'] = tree_v_span\n",
    "    tree_data['starting_velocity'] = galfa_util.galfa_v_lookup_from_index(tree.root_v_slice)\n",
    "    tree_data['average_velocity'] = tree_avg_v\n",
    "    tree_data['moment_0_peak'] = np.nanmax(moment_0_map)\n",
    "    tree_data['moment_0_peak_raw']= np.nanmax(moment_0_map_raw)\n",
    "    tree_data['moment_0_mean'] = np.nanmean(moment_0_map)\n",
    "    tree_data['moment_0_mean_raw']= np.nanmean(moment_0_map_raw)\n",
    "    tree_data['moment_0_median'] = np.nanmedian(moment_0_map)\n",
    "    tree_data['moment_0_median_raw']= np.nanmedian(moment_0_map_raw)\n",
    "    tree_data['moment_1_mean'] = np.nanmean(moment_1_map)\n",
    "    tree_data['moment_1_median'] = np.nanmedian(moment_1_map)\n",
    "    tree_data['moment_2_peak'] = np.nanmax(moment_2_map)\n",
    "    tree_data['moment_2_mean'] = np.nanmean(moment_2_map)\n",
    "    tree_data['moment_2_median'] = np.nanmedian(moment_2_map)\n",
    "    tree_data['column_density_peak'] = np.nanmax(column_density_map)\n",
    "    tree_data['column_density_peak_raw'] = np.nanmax(column_density_map_raw)\n",
    "    tree_data['column_density_mean'] = np.nanmean(column_density_map)\n",
    "    tree_data['column_density_mean_raw'] = np.nanmean(column_density_map_raw)\n",
    "    tree_data['column_density_median'] = np.nanmedian(column_density_map)\n",
    "    tree_data['column_density_median_raw'] = np.nanmedian(column_density_map_raw)\n",
    "    tree_data['width_fit'] = None\n",
    "    tree_data['width_fit_raw'] = None\n",
    "    tree_data['width_err'] = None\n",
    "    tree_data['width_err_raw'] = None\n",
    "    tree_data['width_chisq'] = None\n",
    "    tree_data['width_chisq_raw'] = None\n",
    "    \n",
    "    trees_data_1_6[k] = tree_data\n",
    "    \n",
    "\n",
    "    fig, [ax1, ax2] = plt.subplots(nrows=1, ncols=2, figsize=(8,5))\n",
    "\n",
    "    maps = [column_density_map, full_moment_0_map_umask]\n",
    "\n",
    "    for i, ax, in enumerate([ax1, ax2]):\n",
    "        cutoff = np.percentile(maps[i], 5)\n",
    "        cutoff2 = np.percentile(maps[i], 95)\n",
    "        im = ax.imshow(maps[i].clip(cutoff, cutoff2), origin='lower', cmap='binary') #imshow does m by n\n",
    "        ax.contour(tree_mask, alpha=.5, colors='red', linewidths=.1)\n",
    "\n",
    "        ax.set_xticks([0, tree.root_node.corners[1][1]-tree.root_node.corners[0][1]])\n",
    "        ax.set_xticklabels(np.round(corners_ra,2))\n",
    "        ax.set_yticks([0, tree.root_node.corners[1][0]-tree.root_node.corners[0][0]])\n",
    "        ax.set_yticklabels(np.round(corners_dec,2))\n",
    "        ax.set_xlabel('RA')\n",
    "        ax.set_ylabel('DEC')\n",
    "\n",
    "        if i == 0:\n",
    "            ax.set_title('column from umask30')\n",
    "        elif i == 1:\n",
    "            ax.set_title('raw moment 0 (w/ unsharp mask)')\n",
    "        fig.colorbar(im, ax=ax, shrink=.8)\n",
    "    \n",
    "\n",
    "    fig.suptitle('{0} ({1} channels)'.format(k, tree.length))\n",
    "    fig.tight_layout()\n",
    "        \n",
    "    if tree_roundness <= moments.ROUNDNESS_AR_CONVERSION['1_12']:\n",
    "        save_path = '../../vis/column_plots_fifth_batch/1_12/{0}.pdf'.format(k)\n",
    "    elif tree_roundness <= moments.ROUNDNESS_AR_CONVERSION['1_10']:\n",
    "        save_path = '../../vis/column_plots_fifth_batch/1_10/{0}.pdf'.format(k)\n",
    "    elif tree_roundness <= moments.ROUNDNESS_AR_CONVERSION['1_8']:\n",
    "        save_path = '../../vis/column_plots_fifth_batch/1_8/{0}.pdf'.format(k)\n",
    "    else:\n",
    "        save_path = '../../vis/column_plots_fifth_batch/1_6/{0}.pdf'.format(k)\n",
    "    \n",
    "    logging.debug('saving figure at {0}'.format(save_path))\n",
    "    fig.savefig(save_path)\n",
    "    fig.clf()\n",
    "    plt.close()\n",
    "    plt.close('all')"
   ]
  },
  {
   "cell_type": "code",
   "execution_count": 17,
   "metadata": {},
   "outputs": [],
   "source": [
    "pickle.dump(trees_data_1_6, open('../../pickled_dicts/fifth_batch/trees_data_1_6_large.p', 'wb'))"
   ]
  },
  {
   "cell_type": "code",
   "execution_count": null,
   "metadata": {
    "collapsed": true
   },
   "outputs": [],
   "source": []
  },
  {
   "cell_type": "code",
   "execution_count": null,
   "metadata": {
    "collapsed": true
   },
   "outputs": [],
   "source": []
  },
  {
   "cell_type": "code",
   "execution_count": null,
   "metadata": {
    "collapsed": true
   },
   "outputs": [],
   "source": []
  },
  {
   "cell_type": "code",
   "execution_count": null,
   "metadata": {
    "collapsed": true
   },
   "outputs": [],
   "source": []
  },
  {
   "cell_type": "code",
   "execution_count": null,
   "metadata": {
    "collapsed": true
   },
   "outputs": [],
   "source": []
  },
  {
   "cell_type": "code",
   "execution_count": null,
   "metadata": {
    "collapsed": true
   },
   "outputs": [],
   "source": []
  },
  {
   "cell_type": "code",
   "execution_count": null,
   "metadata": {
    "collapsed": true
   },
   "outputs": [],
   "source": []
  },
  {
   "cell_type": "code",
   "execution_count": null,
   "metadata": {
    "collapsed": true
   },
   "outputs": [],
   "source": []
  },
  {
   "cell_type": "code",
   "execution_count": null,
   "metadata": {
    "collapsed": true
   },
   "outputs": [],
   "source": []
  }
 ],
 "metadata": {
  "kernelspec": {
   "display_name": "Python 2",
   "language": "python",
   "name": "python2"
  },
  "language_info": {
   "codemirror_mode": {
    "name": "ipython",
    "version": 2
   },
   "file_extension": ".py",
   "mimetype": "text/x-python",
   "name": "python",
   "nbconvert_exporter": "python",
   "pygments_lexer": "ipython2",
   "version": "2.7.13"
  }
 },
 "nbformat": 4,
 "nbformat_minor": 2
}
