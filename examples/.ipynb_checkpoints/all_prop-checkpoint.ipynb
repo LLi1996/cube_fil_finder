{
 "cells": [
  {
   "cell_type": "markdown",
   "metadata": {},
   "source": [
    "# All prop"
   ]
  },
  {
   "cell_type": "markdown",
   "metadata": {},
   "source": [
    "### get the properties for all trees"
   ]
  },
  {
   "cell_type": "code",
   "execution_count": 1,
   "metadata": {
    "collapsed": false
   },
   "outputs": [
    {
     "name": "stderr",
     "output_type": "stream",
     "text": [
      "/Users/larryli/anaconda/lib/python2.7/site-packages/matplotlib/font_manager.py:273: UserWarning: Matplotlib is building the font cache using fc-list. This may take a moment.\n",
      "  warnings.warn('Matplotlib is building the font cache using fc-list. This may take a moment.')\n"
     ]
    },
    {
     "name": "stdout",
     "output_type": "stream",
     "text": [
      "Optional package aplpy could not be imported.\n"
     ]
    }
   ],
   "source": [
    "from astropy.io import fits\n",
    "import numpy as np\n",
    "import pickle\n",
    "from cube_fil_finder.structs import util as struct_util\n",
    "from cube_fil_finder.galfa import galfa_const\n",
    "from cube_fil_finder.galfa import galfa_util\n",
    "from cube_fil_finder.util import cube_moments\n",
    "from cube_fil_finder.util import moments\n",
    "from cube_fil_finder.util import widths"
   ]
  },
  {
   "cell_type": "code",
   "execution_count": null,
   "metadata": {
    "collapsed": false
   },
   "outputs": [],
   "source": []
  },
  {
   "cell_type": "code",
   "execution_count": 2,
   "metadata": {
    "collapsed": true
   },
   "outputs": [],
   "source": [
    "pickle_path_trees_1_8 = '../pickled_dicts/all_sky_1_8_cut/all_sky_1_8.p'\n",
    "pickle_path_trees_1_6 = '../pickled_dicts/all_sky_1_6_cut/all_sky_1_6.p'\n",
    "trees_1_8 = pickle.load(open(pickle_path_trees_1_8, 'rb'))\n",
    "trees_1_6 = pickle.load(open(pickle_path_trees_1_6, 'rb'))"
   ]
  },
  {
   "cell_type": "markdown",
   "metadata": {},
   "source": [
    "### Checking the overlap trees in 1-8 and 1-6 agree"
   ]
  },
  {
   "cell_type": "code",
   "execution_count": 4,
   "metadata": {
    "collapsed": false
   },
   "outputs": [],
   "source": [
    "for k in trees_1_8:\n",
    "    if k not in trees_1_6:\n",
    "        print('ERROR: key [{0}] not found in 1-6 cut'.format(k))"
   ]
  },
  {
   "cell_type": "code",
   "execution_count": 5,
   "metadata": {
    "collapsed": false
   },
   "outputs": [],
   "source": [
    "# for future use, keys sorted in descending order by masked area\n",
    "keys_1_8 = struct_util.sorted_struct_dict_keys_by_area(trees_1_8.keys(), 'tree')\n",
    "keys_1_6 = struct_util.sorted_struct_dict_keys_by_area(trees_1_6.keys(), 'tree')"
   ]
  },
  {
   "cell_type": "markdown",
   "metadata": {},
   "source": [
    "For each tree:\n",
    "width, aspect ratio (roundedness approx), size (masked area), coord (ra&dec, l&b), column density (peak, avg & median), moment_0_1_2 (peak, avg & median), velocity span, average velocity"
   ]
  },
  {
   "cell_type": "code",
   "execution_count": 6,
   "metadata": {
    "collapsed": false
   },
   "outputs": [
    {
     "name": "stderr",
     "output_type": "stream",
     "text": [
      "WARNING: VerifyWarning: Invalid 'BLANK' keyword in header.  The 'BLANK' keyword is only applicable to integer data, and will be ignored in this HDU. [astropy.io.fits.hdu.image]\n"
     ]
    }
   ],
   "source": [
    "# example header\n",
    "hdr = fits.getheader('/Volumes/LarryExternal1/Research_2017/GALFA_slices_backup/umask_gaussian_30/GALFA_HI_W_S0955_V-050.4kms_umask.fits')"
   ]
  },
  {
   "cell_type": "code",
   "execution_count": null,
   "metadata": {
    "collapsed": false
   },
   "outputs": [],
   "source": [
    "trees_data_1_6 = {}\n",
    "for k in trees_1_6:\n",
    "    tree = trees_1_6[k]\n",
    "\n",
    "    tree_mask = tree.root_node.mask\n",
    "    tree_size = tree.root_node.masked_area_size\n",
    "    tree_v_span = tree.length * galfa_const.GALFA_W_SLICE_SEPARATION\n",
    "    tree_starting_v_index = tree.root_v_slice\n",
    "\n",
    "    tree_avg_v = galfa_util.galfa_v_lookup_from_index(tree_starting_v_index + tree_v_span / 2.)\n",
    "\n",
    "    x_bar, y_bar, theta_1, theta_2, tree_roundness = moments.get_tree_mask_orientation_info(tree)\n",
    "    tree_ra, tree_dec = galfa_util.galfa_index_to_radecs(x_bar, y_bar)\n",
    "    tree_l, tree_b = galfa_util.galfa_index_to_lb(x_bar, y_bar)\n",
    "\n",
    "    tree_data_cube = galfa_util.get_galfa_data_cube_from_tree(tree)\n",
    "\n",
    "    full_moment_0_map = np.nan_to_num(cube_moments.moment_0_from_cube(tree_data_cube))\n",
    "\n",
    "    moment_0_map = cube_moments.moment_0_from_cube(tree_data_cube, mask=tree_mask)\n",
    "    moment_1_map = cube_moments.moment_1_from_cube(tree_data_cube, tree_starting_v_index, tree.length, mask=tree_mask)\n",
    "    moment_2_map = cube_moments.moment_2_from_cube(tree_data_cube, tree_starting_v_index, tree.length, mask=tree_mask)\n",
    "    column_density_map = cube_moments.column_density_from_moment_0_map(moment_0_map)\n",
    "\n",
    "    width_fit, width_fit_err = widths.get_width_fit_filfind(full_moment_0_map, tree, hdr)\n",
    "\n",
    "    tree_data = {}\n",
    "    tree_data['roundness'] = tree_roundness\n",
    "    tree_data['size'] = tree_size\n",
    "    tree_data['ra_dec'] = [tree_ra, tree_dec]\n",
    "    tree_data['l_b'] = [tree_l, tree_b]\n",
    "    tree_data['velocity_span'] = tree_v_span\n",
    "    tree_data['starting_velocity'] = galfa_util.galfa_v_lookup_from_index(tree.root_v_slice)\n",
    "    tree_data['average_velocity'] = tree_avg_v\n",
    "    tree_data['moment_0_peak'] = np.nanmax(moment_0_map)\n",
    "    tree_data['moment_0_mean'] = np.nanmean(moment_0_map)\n",
    "    tree_data['moment_0_median'] = np.nanmedian(moment_0_map)\n",
    "    tree_data['moment_1_mean'] = np.nanmean(moment_1_map)\n",
    "    tree_data['moment_1_median'] = np.nanmedian(moment_1_map)\n",
    "    tree_data['moment_2_peak'] = np.nanmax(moment_2_map)\n",
    "    tree_data['moment_2_mean'] = np.nanmean(moment_2_map)\n",
    "    tree_data['moment_2_median'] = np.nanmedian(moment_2_map)\n",
    "    tree_data['column_density_peak'] = np.nanmax(column_density_map)\n",
    "    tree_data['column_density_mean'] = np.nanmean(column_density_map)\n",
    "    tree_data['column_density_median'] = np.nanmedian(column_density_map)\n",
    "    tree_data['width_fit'] = width_fit\n",
    "    tree_data['width_err'] = width_fit_err\n",
    "    \n",
    "    trees_data_1_6[k] = tree_data"
   ]
  },
  {
   "cell_type": "code",
   "execution_count": null,
   "metadata": {
    "collapsed": false
   },
   "outputs": [],
   "source": []
  },
  {
   "cell_type": "code",
   "execution_count": 9,
   "metadata": {
    "collapsed": false
   },
   "outputs": [],
   "source": [
    "pickle.dump(trees_data_1_6,open('../pickled_dicts/all_sky_1_6_cut/all_sky_1_6_properties.p', 'wb'))"
   ]
  },
  {
   "cell_type": "code",
   "execution_count": 27,
   "metadata": {
    "collapsed": false
   },
   "outputs": [],
   "source": [
    "widths_1_6 = []\n",
    "bs_1_6 = []\n",
    "v_means_1_6 = []\n",
    "column_density_mean_1_6 = []\n",
    "\n",
    "for k in keys_1_6:\n",
    "    tree_data = trees_data_1_6[k]\n",
    "    widths_1_6.append(tree_data['width_fit'][3])\n",
    "    bs_1_6.append(tree_data['l_b'][1])\n",
    "    v_means_1_6.append(tree_data['moment_1_mean'])\n",
    "    column_density_mean_1_6.append(tree_data['column_density_mean'])\n",
    "\n",
    "widths_1_6 = np.asarray(width_1_6)\n",
    "bs_1_6 = np.asarray(bs_1_6)\n",
    "v_means_1_6 = np.asarray(v_means_1_6)\n",
    "column_density_mean_1_6 = np.asarray(column_density_mean_1_6)"
   ]
  },
  {
   "cell_type": "code",
   "execution_count": null,
   "metadata": {
    "collapsed": false
   },
   "outputs": [],
   "source": []
  },
  {
   "cell_type": "markdown",
   "metadata": {
    "collapsed": false
   },
   "source": [
    "## Output to txt formatting"
   ]
  },
  {
   "cell_type": "code",
   "execution_count": 3,
   "metadata": {
    "collapsed": false
   },
   "outputs": [],
   "source": [
    "data_dict = pickle.load(open('../pickled_dicts/all_sky_1_6_cut/all_sky_1_6_properties_fin.p', 'rb'))"
   ]
  },
  {
   "cell_type": "code",
   "execution_count": 87,
   "metadata": {
    "collapsed": false
   },
   "outputs": [],
   "source": [
    "tree_keys = struct_util.sorted_struct_dict_keys_by_area(data_dict.keys(), 'tree')"
   ]
  },
  {
   "cell_type": "code",
   "execution_count": 6,
   "metadata": {
    "collapsed": true
   },
   "outputs": [],
   "source": [
    "bad_trees = ['5216_1028_0','7901_955_0','6499_985_0','2431_1020_0','4753_990_0','2844_1029_0','3482_975_0',\n",
    " '11433_997_0','6932_974_0','18355_1014_0','1781_1023_0','5631_1028_0','5150_1038_0','10586_970_0','10760_983_0',\n",
    " '8776_1030_0','6720_1017_0','8738_1015_0','6012_1032_0','12141_1018_0','1995_1014_0','7611_956_0','5393_978_0',\n",
    " '6932_974_0','13922_1031_0','46955_1054_0','9905_1061_0','12603_1055_0','5191_1032_0']"
   ]
  },
  {
   "cell_type": "code",
   "execution_count": 91,
   "metadata": {
    "collapsed": true
   },
   "outputs": [],
   "source": [
    "keys = ['ra',\n",
    "        'dec',\n",
    "        'l',\n",
    "        'b',\n",
    "        'size',\n",
    "        'roundness',\n",
    "        'starting_velocity',\n",
    "        'velocity_span',\n",
    "        'average_velocity',\n",
    "        'moment_0_mean',\n",
    "        'moment_0_median',\n",
    "        'moment_0_peak',\n",
    "        'moment_1_mean',\n",
    "        'moment_1_median',\n",
    "        'moment_2_mean',\n",
    "        'moment_2_median',\n",
    "        'moment_2_peak',\n",
    "        'column_density_mean',\n",
    "        'column_density_median',\n",
    "        'column_density_peak',\n",
    "        'width_fit',\n",
    "        'width_err']"
   ]
  },
  {
   "cell_type": "code",
   "execution_count": 92,
   "metadata": {
    "collapsed": false
   },
   "outputs": [],
   "source": [
    "lines = []\n",
    "for tree_key in tree_keys:\n",
    "    if tree_key in bad_trees:\n",
    "        continue\n",
    "    else:\n",
    "        line = []\n",
    "        for k in keys:\n",
    "            if k == 'key':\n",
    "                line.append(1)\n",
    "            elif k == 'ra':\n",
    "                line.append(data_dict[tree_key]['ra_dec'][0])\n",
    "            elif k == 'dec':\n",
    "                line.append(data_dict[tree_key]['ra_dec'][1])\n",
    "            elif k == 'l':\n",
    "                line.append(data_dict[tree_key]['l_b'][0])\n",
    "            elif k == 'b':\n",
    "                line.append(data_dict[tree_key]['l_b'][1])\n",
    "            elif k in ('width_fit', 'width_err'): \n",
    "                line.append(data_dict[tree_key][k][3])\n",
    "            else:\n",
    "                line.append(data_dict[tree_key][k])\n",
    "        line = np.asarray(line)\n",
    "        lines.append(line)"
   ]
  },
  {
   "cell_type": "code",
   "execution_count": 93,
   "metadata": {
    "collapsed": false
   },
   "outputs": [],
   "source": [
    "lines = np.vstack(lines)"
   ]
  },
  {
   "cell_type": "code",
   "execution_count": null,
   "metadata": {
    "collapsed": false
   },
   "outputs": [],
   "source": []
  },
  {
   "cell_type": "code",
   "execution_count": 94,
   "metadata": {
    "collapsed": false
   },
   "outputs": [],
   "source": [
    "np.savetxt('../data_out/all_prop.txt', lines, delimiter=',', header=','.join(keys))"
   ]
  },
  {
   "cell_type": "code",
   "execution_count": null,
   "metadata": {
    "collapsed": false
   },
   "outputs": [],
   "source": []
  },
  {
   "cell_type": "code",
   "execution_count": null,
   "metadata": {
    "collapsed": false
   },
   "outputs": [],
   "source": []
  },
  {
   "cell_type": "code",
   "execution_count": null,
   "metadata": {
    "collapsed": true
   },
   "outputs": [],
   "source": []
  },
  {
   "cell_type": "code",
   "execution_count": null,
   "metadata": {
    "collapsed": false
   },
   "outputs": [],
   "source": []
  },
  {
   "cell_type": "code",
   "execution_count": null,
   "metadata": {
    "collapsed": false
   },
   "outputs": [],
   "source": []
  },
  {
   "cell_type": "code",
   "execution_count": null,
   "metadata": {
    "collapsed": true
   },
   "outputs": [],
   "source": []
  },
  {
   "cell_type": "code",
   "execution_count": null,
   "metadata": {
    "collapsed": false
   },
   "outputs": [],
   "source": []
  },
  {
   "cell_type": "code",
   "execution_count": null,
   "metadata": {
    "collapsed": false
   },
   "outputs": [],
   "source": []
  },
  {
   "cell_type": "code",
   "execution_count": null,
   "metadata": {
    "collapsed": false
   },
   "outputs": [],
   "source": []
  },
  {
   "cell_type": "code",
   "execution_count": null,
   "metadata": {
    "collapsed": false
   },
   "outputs": [],
   "source": []
  },
  {
   "cell_type": "code",
   "execution_count": null,
   "metadata": {
    "collapsed": true
   },
   "outputs": [],
   "source": []
  }
 ],
 "metadata": {
  "kernelspec": {
   "display_name": "Python 2",
   "language": "python",
   "name": "python2"
  },
  "language_info": {
   "codemirror_mode": {
    "name": "ipython",
    "version": 2
   },
   "file_extension": ".py",
   "mimetype": "text/x-python",
   "name": "python",
   "nbconvert_exporter": "python",
   "pygments_lexer": "ipython2",
   "version": "2.7.12"
  }
 },
 "nbformat": 4,
 "nbformat_minor": 0
}
