{
 "cells": [
  {
   "cell_type": "code",
   "execution_count": 55,
   "metadata": {
    "collapsed": false
   },
   "outputs": [],
   "source": [
    "from astropy.io import fits\n",
    "import pickle\n",
    "from matplotlib import pyplot as plt\n",
    "%matplotlib inline\n",
    "import numpy as np"
   ]
  },
  {
   "cell_type": "code",
   "execution_count": 5,
   "metadata": {
    "collapsed": false
   },
   "outputs": [],
   "source": [
    "ex_3d_cube_path = '/Users/larryli/Documents/CC/16-17/research/data/usharpbg30.fits'\n",
    "hdulist = fits.open(ex_3d_cube_path)"
   ]
  },
  {
   "cell_type": "code",
   "execution_count": 6,
   "metadata": {
    "collapsed": false
   },
   "outputs": [
    {
     "name": "stdout",
     "output_type": "stream",
     "text": [
      "Filename: /Users/larryli/Documents/CC/16-17/research/data/usharpbg30.fits\n",
      "No.    Name         Type      Cards   Dimensions   Format\n",
      "0    PRIMARY     PrimaryHDU      61   (2600, 1150, 36)   float64   \n"
     ]
    }
   ],
   "source": [
    "hdulist.info()"
   ]
  },
  {
   "cell_type": "code",
   "execution_count": 7,
   "metadata": {
    "collapsed": true
   },
   "outputs": [],
   "source": [
    "header = hdulist[0].header\n",
    "data = hdulist[0].data"
   ]
  },
  {
   "cell_type": "code",
   "execution_count": 8,
   "metadata": {
    "collapsed": false
   },
   "outputs": [
    {
     "data": {
      "text/plain": [
       "SIMPLE  =                    T / conforms to FITS standard                      \n",
       "BITPIX  =                  -64 / array data type                                \n",
       "NAXIS   =                    3 / number of array dimensions                     \n",
       "NAXIS1  =                 2600                                                  \n",
       "NAXIS2  =                 1150                                                  \n",
       "NAXIS3  =                   36                                                  \n",
       "OBJECT  = 'GALFA-HI RA+DEC Custom 241.660 +28.6700' /  Object name              \n",
       "CTYPE1  = 'RA---CAR'                                            /  1st axis type\n",
       "CRVAL1  =              180.000 /  Reference pixel value                         \n",
       "CRPIX1  =               3499.5 / Reference pixel                                \n",
       "CDELT1  =           -0.0166667 /  Pixel size in world coordinate units          \n",
       "CROTA1  =               0.0000 /  Axis rotation in degrees                      \n",
       "CTYPE2  = 'DEC--CAR'                                            /  2nd axis type\n",
       "CRVAL2  =              0.00000 /  Reference pixel value                         \n",
       "CRPIX2  =             -1145.50 /  Reference pixel                               \n",
       "CDELT2  =            0.0166667 /  Pixel size in world coordinate units          \n",
       "CROTA2  =               0.0000 /  Axis rotation in degrees                      \n",
       "CTYPE3  = 'VELO-LSR'                                            /  3rd axis type\n",
       "CRVAL3  =   -12882.14968999995 / Reference pixel value                          \n",
       "CRPIX3  =                    1 /  Reference pixel                               \n",
       "CDELT3  =    736.1228400000073 / Pixel size in world coordinate units           \n",
       "CROTA3  =               0.0000 /  Axis rotation in degrees                      \n",
       "EQUINOX =              2000.00 /  Equinox of coordinates (if any)               \n",
       "BUNIT   = 'K (Tb)'                                 /  Units of pixel data values\n",
       "BLANK   =               -32768 /  Raw pixel value indicating no data            \n",
       "OBSFREQ =        1.4204058E+09 /                                                \n",
       "TELESCOP= 'Arecibo 305m'                                                        \n",
       "INSTRUME= 'Arecibo L-Band Feed Array (ALFA)'                                    \n",
       "OBSERVER= 'Turn On Galfa Survey (TOGS)'                                         \n",
       "HISTORY >                                                                       \n",
       "HISTORY *********************************************************************   \n",
       "HISTORY The data in this FITS file have been produced by the GALFA-HI           \n",
       "HISTORY consortium in concert with the TOGS subgroup. The GALFA Consortium      \n",
       "HISTORY was formed in 2003 to use the 7-element Arecibo L-band Feed Array       \n",
       "HISTORY (ALFA) instrument for surveys of the Galactic Insterstellar Medium      \n",
       "HISTORY (ISM) with the Arecibo 305m telescope.  These data are released to      \n",
       "HISTORY the public for scientific research and educational purposes. The        \n",
       "HISTORY GALFA-HI/TOGS team has made reasonable efforts to produce accurate      \n",
       "HISTORY data, but no warranty is expressed or implied as to the suitability     \n",
       "HISTORY of the data for any particular purpose. Please see Peek & Heiles 2008,  \n",
       "HISTORY arXiv:0810.1283 as well as attached data set release documentation.     \n",
       "HISTORY Users are requested to include the following acknowledgement in         \n",
       "HISTORY publications making use of GALFA-HI data:                               \n",
       "HISTORY >                                                                       \n",
       "HISTORY \"The Galactic Arecibo L-Band Feed Array HI (GALFA-HI) Survey data set   \n",
       "HISTORY was obtained with the Arecibo L-band Feed Array (ALFA) on the Arecibo   \n",
       "HISTORY 305m telescope.  Arecibo Observatory is part of the National Astronomy  \n",
       "HISTORY and Ionosphere Center, which is operated by Cornell University under ]  \n",
       "HISTORY Cooperative Agreement with the National Science Foundation of the       \n",
       "HISTORY United States of America.\"                                              \n",
       "HISTORY >                                                                       \n",
       "HISTORY Further information on GALFA-HI and TOGS is available at the GALFA-HI   \n",
       "HISTORY website at http://sites.google.com/site/galfahi/. General GALFA         \n",
       "HISTORY information may be obtained from the GALFA public web site at           \n",
       "HISTORY http://www.naic.edu/alfa/galfa/ at Arecibo Observatory.                 \n",
       "HISTORY *********************************************************************   \n",
       "HISTORY >                                                                       \n",
       "DATE    = '2015-02-06'         /Date data cube was created                      \n",
       "O_BSCALE=     0.00610370000000 / Original BSCALE Value                          \n",
       "THETA0  =                   72                                                  \n",
       "THETAB  =                   20                                                  "
      ]
     },
     "execution_count": 8,
     "metadata": {},
     "output_type": "execute_result"
    }
   ],
   "source": [
    "header"
   ]
  },
  {
   "cell_type": "code",
   "execution_count": 9,
   "metadata": {
    "collapsed": false
   },
   "outputs": [
    {
     "data": {
      "text/plain": [
       "(36, 1150, 2600)"
      ]
     },
     "execution_count": 9,
     "metadata": {},
     "output_type": "execute_result"
    }
   ],
   "source": [
    "data.shape"
   ]
  },
  {
   "cell_type": "code",
   "execution_count": 10,
   "metadata": {
    "collapsed": false
   },
   "outputs": [
    {
     "data": {
      "text/plain": [
       "'float64'"
      ]
     },
     "execution_count": 10,
     "metadata": {},
     "output_type": "execute_result"
    }
   ],
   "source": [
    "data.dtype.name"
   ]
  },
  {
   "cell_type": "code",
   "execution_count": 34,
   "metadata": {
    "collapsed": false
   },
   "outputs": [
    {
     "data": {
      "text/plain": [
       "numpy.ndarray"
      ]
     },
     "execution_count": 34,
     "metadata": {},
     "output_type": "execute_result"
    }
   ],
   "source": [
    "type(data)"
   ]
  },
  {
   "cell_type": "markdown",
   "metadata": {
    "collapsed": true
   },
   "source": [
    "### get a tree"
   ]
  },
  {
   "cell_type": "code",
   "execution_count": 67,
   "metadata": {
    "collapsed": true
   },
   "outputs": [],
   "source": [
    "from cube_fil_finder.galfa import galfa_util\n",
    "from cube_fil_finder.galfa import galfa_const\n",
    "from cube_fil_finder.util import cube_util"
   ]
  },
  {
   "cell_type": "code",
   "execution_count": 68,
   "metadata": {
    "collapsed": false
   },
   "outputs": [
    {
     "data": {
      "text/plain": [
       "<module 'cube_fil_finder.util.cube_util' from '/Users/larryli/Documents/CC/16-17/research/3d_filfind/cube_fil_finder/util/cube_util.py'>"
      ]
     },
     "execution_count": 68,
     "metadata": {},
     "output_type": "execute_result"
    }
   ],
   "source": [
    "reload(galfa_util)\n",
    "reload(galfa_const)\n",
    "reload(cube_util)"
   ]
  },
  {
   "cell_type": "code",
   "execution_count": 25,
   "metadata": {
    "collapsed": true
   },
   "outputs": [],
   "source": [
    "pickle_path_all_sky_1_8 = '../pickled_dicts/all_sky_1_8_cut/all_sky_1_8.p'\n",
    "trees_all_sky_1_8 = pickle.load(open(pickle_path_all_sky_1_8, 'rb'))"
   ]
  },
  {
   "cell_type": "code",
   "execution_count": 26,
   "metadata": {
    "collapsed": true
   },
   "outputs": [],
   "source": [
    "ex_tree = trees_all_sky_1_8['841_1016_1']"
   ]
  },
  {
   "cell_type": "code",
   "execution_count": 32,
   "metadata": {
    "collapsed": false
   },
   "outputs": [],
   "source": [
    "path_list = galfa_util.get_galfa_slice_paths_from_tree(ex_tree)"
   ]
  },
  {
   "cell_type": "code",
   "execution_count": 33,
   "metadata": {
    "collapsed": false
   },
   "outputs": [
    {
     "data": {
      "text/plain": [
       "['/Volumes/LarryExternal1/Research_2017/GALFA_slices_backup/umask_gaussian_30/GALFA_HI_W_S1016_V-005.5kms_umask.fits',\n",
       " '/Volumes/LarryExternal1/Research_2017/GALFA_slices_backup/umask_gaussian_30/GALFA_HI_W_S1017_V-004.8kms_umask.fits',\n",
       " '/Volumes/LarryExternal1/Research_2017/GALFA_slices_backup/umask_gaussian_30/GALFA_HI_W_S1018_V-004.0kms_umask.fits']"
      ]
     },
     "execution_count": 33,
     "metadata": {},
     "output_type": "execute_result"
    }
   ],
   "source": [
    "path_list"
   ]
  },
  {
   "cell_type": "markdown",
   "metadata": {},
   "source": [
    "### get a galfa slice"
   ]
  },
  {
   "cell_type": "code",
   "execution_count": 35,
   "metadata": {
    "collapsed": false
   },
   "outputs": [],
   "source": [
    "ex_galfa_slice_path = '/Volumes/LarryExternal1/Research_2017/GALFA_slices_backup/umask_gaussian_30/GALFA_HI_W_S0955_V-050.4kms_umask.fits'"
   ]
  },
  {
   "cell_type": "code",
   "execution_count": 36,
   "metadata": {
    "collapsed": true
   },
   "outputs": [],
   "source": [
    "ex_galfa_slice_hdulist = fits.open(ex_galfa_slice_path)"
   ]
  },
  {
   "cell_type": "code",
   "execution_count": 38,
   "metadata": {
    "collapsed": false
   },
   "outputs": [
    {
     "name": "stdout",
     "output_type": "stream",
     "text": [
      "Filename: /Volumes/LarryExternal1/Research_2017/GALFA_slices_backup/umask_gaussian_30/GALFA_HI_W_S0955_V-050.4kms_umask.fits\n",
      "No.    Name         Type      Cards   Dimensions   Format\n",
      "0    PRIMARY     PrimaryHDU      44   (21600, 2432)   float64   \n"
     ]
    }
   ],
   "source": [
    "ex_galfa_slice_hdulist.info()"
   ]
  },
  {
   "cell_type": "code",
   "execution_count": 39,
   "metadata": {
    "collapsed": true
   },
   "outputs": [],
   "source": [
    "ex_galfa_slice_header = ex_galfa_slice_hdulist[0].header\n",
    "ex_galfa_slice_data = ex_galfa_slice_hdulist[0].data"
   ]
  },
  {
   "cell_type": "code",
   "execution_count": 40,
   "metadata": {
    "collapsed": false
   },
   "outputs": [
    {
     "data": {
      "text/plain": [
       "SIMPLE  =                    T / conforms to FITS standard                      \n",
       "BITPIX  =                  -64 / array data type                                \n",
       "NAXIS   =                    2 / number of array dimensions                     \n",
       "NAXIS1  =                21600                                                  \n",
       "NAXIS2  =                 2432                                                  \n",
       "OBJECT  = 'Allsky Channel Map' / Object name                                    \n",
       "CTYPE1  = 'RA      '           /  1st axis type                                 \n",
       "CRVAL1  =              180.000 /  Reference pixel value                         \n",
       "CRPIX1  =              10800.5 / Reference pixel                                \n",
       "CDELT1  =           -0.0166667 /  Pixel size in world coordinate units          \n",
       "CROTA1  =               0.0000 /  Axis rotation in degrees                      \n",
       "CTYPE2  = 'DEC     '           /  2nd axis type                                 \n",
       "CRVAL2  =              2.35000 /  Reference pixel value                         \n",
       "CRPIX2  =              256.500 /  Reference pixel                               \n",
       "CDELT2  =            0.0166667 /  Pixel size in world coordinate units          \n",
       "CROTA2  =               0.0000 /  Axis rotation in degrees                      \n",
       "EQUINOX =              2000.00 /  Equinox of coordinates (if any)               \n",
       "BUNIT   = 'K (Tb)'                                 /  Units of pixel data values\n",
       "BLANK   =               -32768 /  Raw pixel value indicating no data            \n",
       "OBSFREQ =        1.4204058E+09 /                                                \n",
       "TELESCOP= 'Arecibo 305m'                                                        \n",
       "INSTRUME= 'Arecibo L-Band Feed Array (ALFA)'                                    \n",
       "OBSERVER= 'Turn On Galfa Survey (TOGS)'                                         \n",
       "HISTORY >                                                                       \n",
       "HISTORY *********************************************************************   \n",
       "HISTORY The data in this FITS file have been produced by the GALFA-HI           \n",
       "HISTORY consortium in concert with the TOGS subgroup. The GALFA Consortium      \n",
       "HISTORY was formed in 2003 to use the 7-element Arecibo L-band Feed Array       \n",
       "HISTORY (ALFA) instrument for surveys of the Galactic Insterstellar Medium      \n",
       "HISTORY (ISM) with the Arecibo 305m telescope.  These data are currently only   \n",
       "HISTORY for internal group use: The                                             \n",
       "HISTORY GALFA-HI/TOGS team has made reasonable efforts to produce accurate      \n",
       "HISTORY data, but no warranty is expressed or implied as to the suitability     \n",
       "HISTORY of the data for any particular purpose. Please see Peek, J. E. G. et al.\n",
       "HISTORY 2011, The Astrophysical Journal Supplement, Volume 194, Issue 2, article\n",
       "HISTORY id. 20, 13 pp. doi:10.1088/0067-0049/194/2/20. Note that many           \n",
       "HISTORY further advancements have been made, to be described in a forthcoming   \n",
       "HISTORY Data Release 2 paper.                                                   \n",
       "HISTORY >                                                                       \n",
       "HISTORY Further information on GALFA-HI and TOGS is available at the GALFA-HI   \n",
       "HISTORY website at http://sites.google.com/site/galfahi/.                       \n",
       "HISTORY *********************************************************************   \n",
       "HISTORY >                                                                       \n",
       "HISTORY Channel map at VLSR = -50.4 km/s.                                       "
      ]
     },
     "execution_count": 40,
     "metadata": {},
     "output_type": "execute_result"
    }
   ],
   "source": [
    "ex_galfa_slice_header"
   ]
  },
  {
   "cell_type": "code",
   "execution_count": 41,
   "metadata": {
    "collapsed": false
   },
   "outputs": [
    {
     "data": {
      "text/plain": [
       "(2432, 21600)"
      ]
     },
     "execution_count": 41,
     "metadata": {},
     "output_type": "execute_result"
    }
   ],
   "source": [
    "ex_galfa_slice_data.shape"
   ]
  },
  {
   "cell_type": "code",
   "execution_count": 42,
   "metadata": {
    "collapsed": true
   },
   "outputs": [],
   "source": [
    "full_slice, hdr = fits.getdata(ex_galfa_slice_path, header=True)"
   ]
  },
  {
   "cell_type": "code",
   "execution_count": 43,
   "metadata": {
    "collapsed": false
   },
   "outputs": [
    {
     "data": {
      "text/plain": [
       "(2432, 21600)"
      ]
     },
     "execution_count": 43,
     "metadata": {},
     "output_type": "execute_result"
    }
   ],
   "source": [
    "full_slice.shape"
   ]
  },
  {
   "cell_type": "code",
   "execution_count": 50,
   "metadata": {
    "collapsed": false
   },
   "outputs": [
    {
     "data": {
      "text/plain": [
       "array([], shape=(0, 5), dtype=float64)"
      ]
     },
     "execution_count": 50,
     "metadata": {},
     "output_type": "execute_result"
    }
   ],
   "source": [
    "full_slice[2432:2439, 0:5]"
   ]
  },
  {
   "cell_type": "code",
   "execution_count": 53,
   "metadata": {
    "collapsed": false
   },
   "outputs": [
    {
     "data": {
      "text/plain": [
       "<matplotlib.image.AxesImage at 0x10b8595d0>"
      ]
     },
     "execution_count": 53,
     "metadata": {},
     "output_type": "execute_result"
    },
    {
     "data": {
      "image/png": "[encoded data removed]",
      "text/plain": [
       "<matplotlib.figure.Figure at 0x109e5e450>"
      ]
     },
     "metadata": {},
     "output_type": "display_data"
    }
   ],
   "source": [
    "plt.imshow(full_slice, origin='lower', cmap='binary') #imshow does m by n"
   ]
  },
  {
   "cell_type": "code",
   "execution_count": 60,
   "metadata": {
    "collapsed": false
   },
   "outputs": [
    {
     "data": {
      "text/plain": [
       "[[20564, 1603], [20890, 1741]]"
      ]
     },
     "execution_count": 60,
     "metadata": {},
     "output_type": "execute_result"
    }
   ],
   "source": [
    "ex_tree.root_node.corners"
   ]
  },
  {
   "cell_type": "code",
   "execution_count": 64,
   "metadata": {
    "collapsed": false
   },
   "outputs": [
    {
     "data": {
      "text/plain": [
       "[20564, 1603]"
      ]
     },
     "execution_count": 64,
     "metadata": {},
     "output_type": "execute_result"
    }
   ],
   "source": [
    "ex_tree.root_node.corner_BL"
   ]
  },
  {
   "cell_type": "code",
   "execution_count": 63,
   "metadata": {
    "collapsed": false
   },
   "outputs": [
    {
     "data": {
      "text/plain": [
       "[20890, 1741]"
      ]
     },
     "execution_count": 63,
     "metadata": {},
     "output_type": "execute_result"
    }
   ],
   "source": [
    "ex_tree.root_node.corner_TR"
   ]
  },
  {
   "cell_type": "code",
   "execution_count": 69,
   "metadata": {
    "collapsed": true
   },
   "outputs": [],
   "source": [
    "cut_slice = cube_util.cut_data_slice_from_node(full_slice, ex_tree.root_node)"
   ]
  },
  {
   "cell_type": "code",
   "execution_count": 70,
   "metadata": {
    "collapsed": false
   },
   "outputs": [
    {
     "data": {
      "text/plain": [
       "(0, 138)"
      ]
     },
     "execution_count": 70,
     "metadata": {},
     "output_type": "execute_result"
    }
   ],
   "source": [
    "cut_slice.shape"
   ]
  },
  {
   "cell_type": "code",
   "execution_count": 72,
   "metadata": {
    "collapsed": false
   },
   "outputs": [],
   "source": [
    "corners = ex_tree.root_node.corners\n",
    "cut_slice_b = full_slice[corners[0][1]:corners[1][1], corners[0][0]:corners[1][0]]"
   ]
  },
  {
   "cell_type": "code",
   "execution_count": 73,
   "metadata": {
    "collapsed": false
   },
   "outputs": [
    {
     "data": {
      "text/plain": [
       "(138, 326)"
      ]
     },
     "execution_count": 73,
     "metadata": {},
     "output_type": "execute_result"
    }
   ],
   "source": [
    "cut_slice_b.shape"
   ]
  },
  {
   "cell_type": "code",
   "execution_count": null,
   "metadata": {
    "collapsed": true
   },
   "outputs": [],
   "source": [
    "corner_BL = ex_tree.root_node.corner_BL\n",
    "corner_TR = ex_tree.root_node.corner_TR\n",
    "cut_slice_c = full_slice[corners[0][1]:corners[1][1], corners[0][0]:corners[1][0]]"
   ]
  }
 ],
 "metadata": {
  "kernelspec": {
   "display_name": "Python 2",
   "language": "python",
   "name": "python2"
  },
  "language_info": {
   "codemirror_mode": {
    "name": "ipython",
    "version": 2
   },
   "file_extension": ".py",
   "mimetype": "text/x-python",
   "name": "python",
   "nbconvert_exporter": "python",
   "pygments_lexer": "ipython2",
   "version": "2.7.12"
  }
 },
 "nbformat": 4,
 "nbformat_minor": 0
}
