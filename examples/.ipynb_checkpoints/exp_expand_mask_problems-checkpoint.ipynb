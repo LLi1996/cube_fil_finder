{
 "cells": [
  {
   "cell_type": "code",
   "execution_count": 2,
   "metadata": {
    "collapsed": true
   },
   "outputs": [],
   "source": [
    "import pickle\n",
    "import numpy as np"
   ]
  },
  {
   "cell_type": "code",
   "execution_count": 4,
   "metadata": {},
   "outputs": [],
   "source": [
    "nodes = pickle.load(open('../pickled_dicts/filfind_width_comp_high_1/GALFA_HI_W_S0957_V-049.0kms_umask[957][9000, 10000][500, 1500].p', 'r'))\n",
    "nodes_prev = pickle.load(open('../pickled_dicts/filfind_width_comp_high_1/GALFA_HI_W_S0956_V-049.7kms_umask[956][9000, 10000][500, 1500].p', 'r'))\n"
   ]
  },
  {
   "cell_type": "code",
   "execution_count": 5,
   "metadata": {
    "collapsed": true
   },
   "outputs": [],
   "source": [
    "ex_node = nodes['781_0']"
   ]
  },
  {
   "cell_type": "code",
   "execution_count": 7,
   "metadata": {},
   "outputs": [
    {
     "name": "stdout",
     "output_type": "stream",
     "text": [
      "710_0\n"
     ]
    }
   ],
   "source": [
    "for k in nodes_prev:\n",
    "    if nodes_prev[k].checkMaskOverlap(ex_node, .85):\n",
    "        print(k)"
   ]
  },
  {
   "cell_type": "code",
   "execution_count": 8,
   "metadata": {
    "collapsed": true
   },
   "outputs": [],
   "source": [
    "ex_node_prev = nodes_prev['710_0']"
   ]
  },
  {
   "cell_type": "code",
   "execution_count": 18,
   "metadata": {},
   "outputs": [
    {
     "name": "stdout",
     "output_type": "stream",
     "text": [
      "(32, 52)\n",
      "[[98, 521], [150, 553]]\n",
      "[[521, 98], [553, 150]]\n"
     ]
    }
   ],
   "source": [
    "print(ex_node_prev.mask.shape)\n",
    "print(ex_node_prev.corners)\n",
    "print(ex_node_prev.corners_original)"
   ]
  },
  {
   "cell_type": "code",
   "execution_count": 19,
   "metadata": {},
   "outputs": [
    {
     "name": "stdout",
     "output_type": "stream",
     "text": [
      "(35, 55)\n",
      "[[98, 522], [153, 557]]\n",
      "[[522, 98], [557, 153]]\n"
     ]
    }
   ],
   "source": [
    "print(ex_node.mask.shape)\n",
    "print(ex_node.corners)\n",
    "print(ex_node.corners_original)"
   ]
  },
  {
   "cell_type": "code",
   "execution_count": 13,
   "metadata": {},
   "outputs": [
    {
     "data": {
      "text/plain": [
       "[[98, 521], [153, 557]]"
      ]
     },
     "execution_count": 13,
     "metadata": {},
     "output_type": "execute_result"
    }
   ],
   "source": [
    "ex_node_prev.matchCorners(ex_node)"
   ]
  },
  {
   "cell_type": "code",
   "execution_count": 20,
   "metadata": {},
   "outputs": [
    {
     "name": "stdout",
     "output_type": "stream",
     "text": [
      "(32, 52)\n"
     ]
    },
    {
     "data": {
      "text/plain": [
       "(36, 55)"
      ]
     },
     "execution_count": 20,
     "metadata": {},
     "output_type": "execute_result"
    }
   ],
   "source": [
    "expandMask(ex_node_prev, [[98, 521], [153, 557]]).shape"
   ]
  },
  {
   "cell_type": "code",
   "execution_count": 22,
   "metadata": {},
   "outputs": [
    {
     "name": "stdout",
     "output_type": "stream",
     "text": [
      "(35, 55)\n"
     ]
    },
    {
     "data": {
      "text/plain": [
       "(36, 55)"
      ]
     },
     "execution_count": 22,
     "metadata": {},
     "output_type": "execute_result"
    }
   ],
   "source": [
    "expandMask(ex_node, [[98, 521], [153, 557]]).shape"
   ]
  },
  {
   "cell_type": "code",
   "execution_count": null,
   "metadata": {},
   "outputs": [],
   "source": []
  },
  {
   "cell_type": "code",
   "execution_count": 15,
   "metadata": {
    "collapsed": true
   },
   "outputs": [],
   "source": [
    "def expandMask(node, new_corners):\n",
    "    \"\"\"\n",
    "    Expand self.mask so its corners match the new_corners provided. Masks\n",
    "    are paded with 0s with the numpy function pad()\n",
    "    Arguments:\n",
    "        new_corners {MaskObjNode.corners} -- new corners\n",
    "    Returns:\n",
    "        new expanded mask\n",
    "    \"\"\"\n",
    "    mask = node.mask\n",
    "    print(mask.shape)\n",
    "\n",
    "    if hasattr(node, 'corners_original'):\n",
    "        np_corners = node.corners_original\n",
    "        np_corners_new = [(new_corners[0][1], new_corners[0][0]),\n",
    "                          (new_corners[1][1], new_corners[1][0])]\n",
    "        i_pad_before = np_corners[0][0] - np_corners_new[0][0]\n",
    "        i_pad_after = np_corners_new[1][0] - np_corners[1][0]\n",
    "        j_pad_before = np_corners[0][1] - np_corners_new[0][1]\n",
    "        j_pad_after = np_corners_new[1][1] - np_corners[1][1]\n",
    "        return np.pad(mask, ((i_pad_before, i_pad_after), (j_pad_before, j_pad_after)), 'constant', constant_values=0)\n",
    "    else:\n",
    "        old_corners = node.corners\n",
    "        t_Pad = abs(new_corners[1][1] - old_corners[1][1])\n",
    "        b_Pad = abs(new_corners[0][1] - old_corners[0][1])\n",
    "        l_Pad = abs(new_corners[0][0] - old_corners[0][0])\n",
    "        r_Pad = abs(new_corners[1][0] - old_corners[1][0])\n",
    "        return np.lib.pad(mask, ((b_Pad, t_Pad), (l_Pad, r_Pad)), 'constant', constant_values=0)"
   ]
  },
  {
   "cell_type": "code",
   "execution_count": 67,
   "metadata": {},
   "outputs": [
    {
     "name": "stdout",
     "output_type": "stream",
     "text": [
      "(76, 57)\n",
      "[(2002, 0), (2078, 56)]\n",
      "[(2002, 0), (2097, 125)]\n",
      "((0, 19), (0, 69))\n"
     ]
    },
    {
     "data": {
      "text/plain": [
       "(95, 126)"
      ]
     },
     "execution_count": 67,
     "metadata": {},
     "output_type": "execute_result"
    }
   ],
   "source": [
    "expandMask(ex_node_prev, [[0, 2002], [125, 2097]]).shape"
   ]
  },
  {
   "cell_type": "code",
   "execution_count": 68,
   "metadata": {},
   "outputs": [
    {
     "name": "stdout",
     "output_type": "stream",
     "text": [
      "(94, 93)\n",
      "[(2003, 32), (2097, 125)]\n",
      "[(2002, 0), (2097, 125)]\n",
      "((1, 0), (32, 0))\n"
     ]
    },
    {
     "data": {
      "text/plain": [
       "(95, 125)"
      ]
     },
     "execution_count": 68,
     "metadata": {},
     "output_type": "execute_result"
    }
   ],
   "source": [
    "expandMask(ex_node, [[0, 2002], [125, 2097]]).shape"
   ]
  },
  {
   "cell_type": "code",
   "execution_count": 70,
   "metadata": {},
   "outputs": [
    {
     "data": {
      "text/plain": [
       "array([False, False, False,  True,  True,  True,  True,  True,  True,\n",
       "        True,  True,  True,  True,  True,  True,  True,  True,  True,\n",
       "        True,  True,  True,  True, False, False, False, False, False,\n",
       "       False, False, False, False, False, False, False, False, False,\n",
       "       False, False, False, False, False, False, False, False, False,\n",
       "       False, False, False, False, False, False, False, False, False,\n",
       "       False, False, False, False, False, False, False, False, False,\n",
       "       False, False, False, False, False, False, False, False, False,\n",
       "       False, False, False, False], dtype=bool)"
      ]
     },
     "execution_count": 70,
     "metadata": {},
     "output_type": "execute_result"
    }
   ],
   "source": [
    "ex_node_prev.mask[:, 1]"
   ]
  },
  {
   "cell_type": "code",
   "execution_count": 40,
   "metadata": {
    "collapsed": true
   },
   "outputs": [],
   "source": [
    "aaa = [[0, 2002], [125, 2097]]"
   ]
  },
  {
   "cell_type": "code",
   "execution_count": 43,
   "metadata": {},
   "outputs": [
    {
     "data": {
      "text/plain": [
       "0"
      ]
     },
     "execution_count": 43,
     "metadata": {},
     "output_type": "execute_result"
    }
   ],
   "source": [
    "aaa[0][0]"
   ]
  },
  {
   "cell_type": "code",
   "execution_count": 76,
   "metadata": {},
   "outputs": [
    {
     "name": "stdout",
     "output_type": "stream",
     "text": [
      "873_0\n",
      "[(279, 0), (343, 51)]\n",
      "1118_0\n",
      "[(610, 0), (685, 54)]\n",
      "1136_3\n",
      "[(2006, 0), (2075, 56)]\n"
     ]
    }
   ],
   "source": [
    "for k in nodes:\n",
    "    this_node = nodes[k]\n",
    "    mask_shape = np.asarray(this_node.mask.shape)\n",
    "    mask_shape_from_corner = np.asarray(this_node.corners_original[1]) - np.asarray(this_node.corners_original[0])\n",
    "    if np.sum(mask_shape - mask_shape_from_corner) != 0 :\n",
    "        print(k)\n",
    "        print(this_node.corners_original)"
   ]
  },
  {
   "cell_type": "code",
   "execution_count": 78,
   "metadata": {
    "collapsed": true
   },
   "outputs": [],
   "source": [
    "bbb = [(2006, 0), (2075, 56)]"
   ]
  },
  {
   "cell_type": "code",
   "execution_count": 82,
   "metadata": {
    "collapsed": true
   },
   "outputs": [],
   "source": [
    "bbb = [list(bbb[0]), list(bbb[1])]"
   ]
  },
  {
   "cell_type": "code",
   "execution_count": 85,
   "metadata": {},
   "outputs": [
    {
     "data": {
      "text/plain": [
       "2006"
      ]
     },
     "execution_count": 85,
     "metadata": {},
     "output_type": "execute_result"
    }
   ],
   "source": [
    "bbb[0][0]"
   ]
  },
  {
   "cell_type": "code",
   "execution_count": null,
   "metadata": {
    "collapsed": true
   },
   "outputs": [],
   "source": []
  }
 ],
 "metadata": {
  "kernelspec": {
   "display_name": "Python 2",
   "language": "python",
   "name": "python2"
  },
  "language_info": {
   "codemirror_mode": {
    "name": "ipython",
    "version": 2
   },
   "file_extension": ".py",
   "mimetype": "text/x-python",
   "name": "python",
   "nbconvert_exporter": "python",
   "pygments_lexer": "ipython2",
   "version": "2.7.13"
  }
 },
 "nbformat": 4,
 "nbformat_minor": 2
}
