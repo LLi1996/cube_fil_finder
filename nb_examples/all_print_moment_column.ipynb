{
 "cells": [
  {
   "cell_type": "markdown",
   "metadata": {},
   "source": [
    "#### Printing out the 0th moment (from raw) and column density (from usharp30) images for both the 1-8 and the 1-6 sets. 5-95 cut on the intensity"
   ]
  },
  {
   "cell_type": "code",
   "execution_count": 1,
   "metadata": {
    "collapsed": true
   },
   "outputs": [],
   "source": [
    "import pickle\n",
    "import numpy as np\n",
    "from cube_fil_finder.util import cube_moments\n",
    "from cube_fil_finder.galfa import galfa_const\n",
    "from cube_fil_finder.galfa import galfa_util\n",
    "from cube_fil_finder.util import moments\n",
    "\n",
    "from matplotlib import pyplot as plt\n",
    "\n",
    "%matplotlib inline"
   ]
  },
  {
   "cell_type": "code",
   "execution_count": 2,
   "metadata": {},
   "outputs": [
    {
     "data": {
      "text/plain": [
       "<module 'cube_fil_finder.galfa.galfa_util' from '/Users/larryli/Documents/CC/16-17/research/3d_filfind/cube_fil_finder/galfa/galfa_util.pyc'>"
      ]
     },
     "execution_count": 2,
     "metadata": {},
     "output_type": "execute_result"
    }
   ],
   "source": [
    "reload(cube_moments)\n",
    "reload(galfa_util)"
   ]
  },
  {
   "cell_type": "code",
   "execution_count": 3,
   "metadata": {
    "collapsed": true
   },
   "outputs": [],
   "source": [
    "ex_galfa_slice_path = '/Volumes/LarryExternal1/Research_2017/GALFA_slices_backup/umask_gaussian_30/GALFA_HI_W_S0955_V-050.4kms_umask.fits'"
   ]
  },
  {
   "cell_type": "code",
   "execution_count": 5,
   "metadata": {},
   "outputs": [],
   "source": [
    "pickle_path_all_trees_1_8 = '../../pickled_dicts/fourth_batch/all_trees_1_8.p'  \n",
    "all_trees = pickle.load(open(pickle_path_all_trees_1_8, 'rb'))"
   ]
  },
  {
   "cell_type": "code",
   "execution_count": 6,
   "metadata": {
    "collapsed": true
   },
   "outputs": [],
   "source": [
    "pickle_path_all_data = '../../pickled_dicts/fourth_batch/all_trees_1_8_prop.p'\n",
    "all_prop = pickle.load(open(pickle_path_all_data, 'rb'))"
   ]
  },
  {
   "cell_type": "code",
   "execution_count": 7,
   "metadata": {
    "collapsed": true
   },
   "outputs": [],
   "source": [
    "bad_trees = []\n",
    "for k in all_prop:\n",
    "    if len(all_prop[k]) == 0:\n",
    "        bad_trees.append(k)"
   ]
  },
  {
   "cell_type": "code",
   "execution_count": 8,
   "metadata": {
    "collapsed": true
   },
   "outputs": [],
   "source": [
    "for k in bad_trees:\n",
    "    all_trees.pop(k)"
   ]
  },
  {
   "cell_type": "code",
   "execution_count": 9,
   "metadata": {},
   "outputs": [
    {
     "data": {
      "text/plain": [
       "1095"
      ]
     },
     "execution_count": 9,
     "metadata": {},
     "output_type": "execute_result"
    }
   ],
   "source": [
    "len(all_trees)"
   ]
  },
  {
   "cell_type": "code",
   "execution_count": null,
   "metadata": {},
   "outputs": [],
   "source": []
  },
  {
   "cell_type": "code",
   "execution_count": null,
   "metadata": {},
   "outputs": [
    {
     "name": "stderr",
     "output_type": "stream",
     "text": [
      "WARNING: VerifyWarning: Invalid 'BLANK' keyword in header.  The 'BLANK' keyword is only applicable to integer data, and will be ignored in this HDU. [astropy.io.fits.hdu.image]\n"
     ]
    }
   ],
   "source": [
    "for k in all_trees:\n",
    "    tree = all_trees[k]\n",
    "\n",
    "    tree_mask = tree.root_node.mask\n",
    "    tree_size = tree.root_node.masked_area_size\n",
    "\n",
    "    ra, dec = galfa_util.galfa_index_to_radecs([tree.root_node.corners[0][0], tree.root_node.corners[1][0]],\n",
    "                                               [tree.root_node.corners[0][1], tree.root_node.corners[1][1]])\n",
    "\n",
    "    tree_data_cube_umask30 = galfa_util.get_galfa_data_cube_from_tree(tree, cube_type='umask30')\n",
    "    moment_0_map_umask30 = cube_moments.moment_0_from_cube(tree_data_cube_umask30)\n",
    "    column = cube_moments.column_density_from_moment_0_map(moment_0_map_umask30)\n",
    "\n",
    "    tree_data_cube_raw = galfa_util.get_galfa_data_cube_from_tree(tree, cube_type='raw')\n",
    "    moment_0_map_raw = cube_moments.moment_0_from_cube(tree_data_cube_raw)\n",
    "\n",
    "    fig, [ax1, ax2] = plt.subplots(nrows=1, ncols=2, figsize=(8,4))\n",
    "\n",
    "    axs = [ax1, ax2]\n",
    "    maps = [column, moment_0_map_raw]\n",
    "\n",
    "    for i in range(len(axs)):\n",
    "        cutoff = np.percentile(maps[i], 5)\n",
    "        cutoff2 = np.percentile(maps[i], 95)\n",
    "        im = axs[i].imshow(maps[i].clip(cutoff, cutoff2), origin='lower', cmap='binary') #imshow does m by n\n",
    "        axs[i].contour(tree_mask, alpha=.5, colors='red', linewidths=.3)\n",
    "\n",
    "        axs[i].set_xticks([0, tree.root_node.corners[1][0]-tree.root_node.corners[0][0]])\n",
    "        axs[i].set_xticklabels(np.round(ra,2))\n",
    "        axs[i].set_yticks([0, tree.root_node.corners[1][1]-tree.root_node.corners[0][1]])\n",
    "        axs[i].set_yticklabels(np.round(dec,2))\n",
    "        axs[i].set_xlabel('RA')\n",
    "        axs[i].set_ylabel('DEC')\n",
    "\n",
    "        if i == 0:\n",
    "            axs[i].set_title('column from umask30')\n",
    "        elif i == 1:\n",
    "            axs[i].set_title('raw moment 0')\n",
    "        fig.colorbar(im, ax=axs[i], shrink=.8)\n",
    "\n",
    "    fig.suptitle('{0}'.format(k))\n",
    "    fig.tight_layout()\n",
    "    fig.savefig('../../vis/column_plots_fourth_batch/{0}.pdf'.format(k))"
   ]
  },
  {
   "cell_type": "code",
   "execution_count": null,
   "metadata": {
    "collapsed": true
   },
   "outputs": [],
   "source": []
  },
  {
   "cell_type": "code",
   "execution_count": null,
   "metadata": {
    "collapsed": true
   },
   "outputs": [],
   "source": []
  },
  {
   "cell_type": "code",
   "execution_count": null,
   "metadata": {
    "collapsed": true
   },
   "outputs": [],
   "source": []
  },
  {
   "cell_type": "code",
   "execution_count": null,
   "metadata": {
    "collapsed": true
   },
   "outputs": [],
   "source": []
  },
  {
   "cell_type": "code",
   "execution_count": null,
   "metadata": {
    "collapsed": true
   },
   "outputs": [],
   "source": []
  },
  {
   "cell_type": "code",
   "execution_count": null,
   "metadata": {
    "collapsed": true
   },
   "outputs": [],
   "source": []
  },
  {
   "cell_type": "code",
   "execution_count": null,
   "metadata": {
    "collapsed": true
   },
   "outputs": [],
   "source": []
  },
  {
   "cell_type": "code",
   "execution_count": null,
   "metadata": {
    "collapsed": true
   },
   "outputs": [],
   "source": []
  },
  {
   "cell_type": "code",
   "execution_count": null,
   "metadata": {
    "collapsed": true
   },
   "outputs": [],
   "source": []
  },
  {
   "cell_type": "code",
   "execution_count": null,
   "metadata": {
    "collapsed": true
   },
   "outputs": [],
   "source": []
  },
  {
   "cell_type": "code",
   "execution_count": null,
   "metadata": {
    "collapsed": true
   },
   "outputs": [],
   "source": []
  },
  {
   "cell_type": "code",
   "execution_count": null,
   "metadata": {
    "collapsed": true
   },
   "outputs": [],
   "source": []
  },
  {
   "cell_type": "code",
   "execution_count": null,
   "metadata": {
    "collapsed": true
   },
   "outputs": [],
   "source": []
  }
 ],
 "metadata": {
  "kernelspec": {
   "display_name": "Python 2",
   "language": "python",
   "name": "python2"
  },
  "language_info": {
   "codemirror_mode": {
    "name": "ipython",
    "version": 2
   },
   "file_extension": ".py",
   "mimetype": "text/x-python",
   "name": "python",
   "nbconvert_exporter": "python",
   "pygments_lexer": "ipython2",
   "version": "2.7.13"
  }
 },
 "nbformat": 4,
 "nbformat_minor": 1
}
